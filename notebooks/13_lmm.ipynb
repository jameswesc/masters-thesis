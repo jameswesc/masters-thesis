{
 "cells": [
  {
   "cell_type": "markdown",
   "id": "aad1778d",
   "metadata": {},
   "source": [
    "# Linear Mixed Effect Model (LMM)"
   ]
  }
 ],
 "metadata": {
  "language_info": {
   "name": "python"
  }
 },
 "nbformat": 4,
 "nbformat_minor": 5
}
