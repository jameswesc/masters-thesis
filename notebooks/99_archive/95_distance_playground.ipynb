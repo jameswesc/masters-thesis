{
 "cells": [
  {
   "cell_type": "code",
   "execution_count": 4,
   "id": "e7269efd",
   "metadata": {},
   "outputs": [],
   "source": [
    "import numpy as np\n",
    "import pandas as pd\n",
    "from scipy.spatial.distance import squareform, pdist\n",
    "from scipy.cluster.hierarchy import linkage, dendrogram, fcluster, to_tree"
   ]
  },
  {
   "cell_type": "code",
   "execution_count": 5,
   "id": "0ffdcb96",
   "metadata": {},
   "outputs": [
    {
     "data": {
      "text/plain": [
       "array([[ 2,  0,  2],\n",
       "       [ 2,  2,  3],\n",
       "       [-2,  4,  5],\n",
       "       [ 0,  1,  9],\n",
       "       [ 2,  2,  4]])"
      ]
     },
     "execution_count": 5,
     "metadata": {},
     "output_type": "execute_result"
    }
   ],
   "source": [
    "points = np.array([[2, 0, 2], [2, 2, 3], [-2, 4, 5], [0, 1, 9], [2, 2, 4]])\n",
    "# 5 points in 3D space\n",
    "points"
   ]
  },
  {
   "cell_type": "code",
   "execution_count": 6,
   "id": "c2c1652d",
   "metadata": {},
   "outputs": [
    {
     "data": {
      "text/plain": [
       "array([2.23606798, 6.40312424, 7.34846923, 2.82842712, 4.89897949,\n",
       "       6.40312424, 1.        , 5.38516481, 4.58257569, 5.47722558])"
      ]
     },
     "execution_count": 6,
     "metadata": {},
     "output_type": "execute_result"
    }
   ],
   "source": [
    "dist_vec = pdist(points)\n",
    "dist_vec"
   ]
  },
  {
   "cell_type": "code",
   "execution_count": 7,
   "id": "ff2133a3",
   "metadata": {},
   "outputs": [
    {
     "data": {
      "text/plain": [
       "array([[4.        , 1.        , 1.        , 2.        ],\n",
       "       [5.        , 0.        , 2.23606798, 3.        ],\n",
       "       [2.        , 6.        , 4.58257569, 4.        ],\n",
       "       [3.        , 7.        , 5.38516481, 5.        ]])"
      ]
     },
     "execution_count": 7,
     "metadata": {},
     "output_type": "execute_result"
    }
   ],
   "source": [
    "# Squareform will take a condensed distance vec \n",
    "# and recreate the full matrix.\n",
    "# notice the redundancies in the matrix: two copies\n",
    "# of each distance, and 0 distance as the distance\n",
    "# between the same points\n",
    "Z = linkage(dist_vec, method='single', optimal_ordering=True)\n",
    "Z"
   ]
  },
  {
   "cell_type": "code",
   "execution_count": 8,
   "id": "ac2b771f",
   "metadata": {},
   "outputs": [
    {
     "data": {
      "text/plain": [
       "array([2, 1, 3, 4, 1], dtype=int32)"
      ]
     },
     "execution_count": 8,
     "metadata": {},
     "output_type": "execute_result"
    }
   ],
   "source": [
    "fcluster(Z, t = 1, criterion='distance')"
   ]
  },
  {
   "cell_type": "code",
   "execution_count": 9,
   "id": "aa1a3adf",
   "metadata": {},
   "outputs": [
    {
     "data": {
      "text/plain": [
       "{'icoord': [[25.0, 25.0, 35.0, 35.0],\n",
       "  [30.0, 30.0, 45.0, 45.0],\n",
       "  [15.0, 15.0, 37.5, 37.5],\n",
       "  [5.0, 5.0, 26.25, 26.25]],\n",
       " 'dcoord': [[0.0, np.float64(1.0), np.float64(1.0), 0.0],\n",
       "  [np.float64(1.0),\n",
       "   np.float64(2.23606797749979),\n",
       "   np.float64(2.23606797749979),\n",
       "   0.0],\n",
       "  [0.0,\n",
       "   np.float64(4.58257569495584),\n",
       "   np.float64(4.58257569495584),\n",
       "   np.float64(2.23606797749979)],\n",
       "  [0.0,\n",
       "   np.float64(5.385164807134504),\n",
       "   np.float64(5.385164807134504),\n",
       "   np.float64(4.58257569495584)]],\n",
       " 'ivl': ['3', '2', '4', '1', '0'],\n",
       " 'leaves': [3, 2, 4, 1, 0],\n",
       " 'color_list': ['C1', 'C1', 'C0', 'C0'],\n",
       " 'leaves_color_list': ['C0', 'C0', 'C1', 'C1', 'C1']}"
      ]
     },
     "execution_count": 9,
     "metadata": {},
     "output_type": "execute_result"
    },
    {
     "data": {
      "image/png": "[encoded data removed]",
      "text/plain": [
       "<Figure size 640x480 with 1 Axes>"
      ]
     },
     "metadata": {},
     "output_type": "display_data"
    }
   ],
   "source": [
    "dendrogram(Z,)"
   ]
  },
  {
   "cell_type": "code",
   "execution_count": 10,
   "id": "733287e3",
   "metadata": {},
   "outputs": [],
   "source": [
    "root_node, node_list = to_tree(Z, rd = True)"
   ]
  },
  {
   "cell_type": "code",
   "execution_count": 11,
   "id": "70df7b01",
   "metadata": {},
   "outputs": [
    {
     "name": "stdout",
     "output_type": "stream",
     "text": [
      "ID: 8. Count: 5.\n",
      "Left: <scipy.cluster.hierarchy.ClusterNode object at 0x13fdfe520>\n",
      "Right: <scipy.cluster.hierarchy.ClusterNode object at 0x13fe09950>\n"
     ]
    }
   ],
   "source": [
    "print(f\"ID: {root_node.id}. Count: {root_node.count}.\\nLeft: {root_node.left}\\nRight: {root_node.right}\")"
   ]
  },
  {
   "cell_type": "code",
   "execution_count": 18,
   "id": "2f9ee192",
   "metadata": {},
   "outputs": [],
   "source": [
    "def explore_tree(node, prefix = ''):\n",
    "    print(f\"{prefix}ID: {node.id}, Count: {node.count}, isLeaf: {node.is_leaf()}\")\n",
    "    print(f\"{prefix}Pre order: {node.pre_order()}\")\n",
    "    if not node.is_leaf():\n",
    "        prefix = f\"{prefix}\\t\"\n",
    "        explore_tree(node.left, prefix=prefix)\n",
    "        explore_tree(node.right, prefix=prefix)"
   ]
  },
  {
   "cell_type": "code",
   "execution_count": 19,
   "id": "31593986",
   "metadata": {},
   "outputs": [
    {
     "name": "stdout",
     "output_type": "stream",
     "text": [
      "ID: 8, Count: 5, isLeaf: False\n",
      "Pre order: [3, 2, 4, 1, 0]\n",
      "\tID: 3, Count: 1, isLeaf: True\n",
      "\tPre order: [3]\n",
      "\tID: 7, Count: 4, isLeaf: False\n",
      "\tPre order: [2, 4, 1, 0]\n",
      "\t\tID: 2, Count: 1, isLeaf: True\n",
      "\t\tPre order: [2]\n",
      "\t\tID: 6, Count: 3, isLeaf: False\n",
      "\t\tPre order: [4, 1, 0]\n",
      "\t\t\tID: 5, Count: 2, isLeaf: False\n",
      "\t\t\tPre order: [4, 1]\n",
      "\t\t\t\tID: 4, Count: 1, isLeaf: True\n",
      "\t\t\t\tPre order: [4]\n",
      "\t\t\t\tID: 1, Count: 1, isLeaf: True\n",
      "\t\t\t\tPre order: [1]\n",
      "\t\t\tID: 0, Count: 1, isLeaf: True\n",
      "\t\t\tPre order: [0]\n"
     ]
    }
   ],
   "source": [
    "explore_tree(root_node)"
   ]
  },
  {
   "cell_type": "code",
   "execution_count": null,
   "id": "0a6ae9dd",
   "metadata": {},
   "outputs": [],
   "source": []
  },
  {
   "cell_type": "code",
   "execution_count": null,
   "id": "9b8b3ee8",
   "metadata": {},
   "outputs": [
    {
     "data": {
      "text/plain": [
       "<scipy.cluster.hierarchy.ClusterNode at 0x14e0fa900>"
      ]
     },
     "execution_count": 94,
     "metadata": {},
     "output_type": "execute_result"
    }
   ],
   "source": []
  }
 ],
 "metadata": {
  "kernelspec": {
   "display_name": "default",
   "language": "python",
   "name": "python3"
  },
  "language_info": {
   "codemirror_mode": {
    "name": "ipython",
    "version": 3
   },
   "file_extension": ".py",
   "mimetype": "text/x-python",
   "name": "python",
   "nbconvert_exporter": "python",
   "pygments_lexer": "ipython3",
   "version": "3.13.5"
  }
 },
 "nbformat": 4,
 "nbformat_minor": 5
}
