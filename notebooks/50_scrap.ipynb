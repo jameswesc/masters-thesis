{
 "cells": [
  {
   "cell_type": "code",
   "execution_count": 1,
   "id": "bd446616",
   "metadata": {},
   "outputs": [],
   "source": [
    "import numpy as np\n",
    "from scipy.stats import entropy"
   ]
  },
  {
   "cell_type": "code",
   "execution_count": 28,
   "id": "63c52822",
   "metadata": {},
   "outputs": [
    {
     "data": {
      "text/plain": [
       "array([nan, nan, nan,  1.,  2.,  3.,  4.,  1.,  0.,  0.,  0.,  0.])"
      ]
     },
     "execution_count": 28,
     "metadata": {},
     "output_type": "execute_result"
    }
   ],
   "source": [
    "inside = np.array([np.nan, np.nan, np.nan, 1, 2, 3, 4, 1, 0, 0, 0, 0])\n",
    "# inside = inside / inside.sum()\n",
    "inside"
   ]
  },
  {
   "cell_type": "code",
   "execution_count": 30,
   "id": "b8290909",
   "metadata": {},
   "outputs": [
    {
     "data": {
      "text/plain": [
       "np.float64(1.4681399390162087)"
      ]
     },
     "execution_count": 30,
     "metadata": {},
     "output_type": "execute_result"
    }
   ],
   "source": [
    "(entropy(inside, nan_policy='omit'))"
   ]
  },
  {
   "cell_type": "code",
   "execution_count": 23,
   "id": "c8c9e3c8",
   "metadata": {},
   "outputs": [
    {
     "name": "stdout",
     "output_type": "stream",
     "text": [
      "[0.11494253 0.03448276 0.51724138 0.17241379 0.06896552 0.09195402]\n",
      "[0.11494253 0.03448276 0.51724138 0.17241379 0.06896552 0.09195402]\n"
     ]
    }
   ],
   "source": [
    "inside = np.array([10, 3, 45, 15, 6, 8])\n",
    "volume = 8\n",
    "\n",
    "density = inside / volume\n",
    "\n",
    "rel_inside = inside / inside.sum()\n",
    "rel_density = density / density.sum()\n",
    "\n",
    "print(rel_inside)\n",
    "print(rel_density)"
   ]
  },
  {
   "cell_type": "code",
   "execution_count": 27,
   "id": "ee418a2f",
   "metadata": {},
   "outputs": [
    {
     "data": {
      "text/plain": [
       "array([ 0.,  1.,  2.,  3.,  4.,  5.,  6.,  7.,  8.,  9., 10., 11.])"
      ]
     },
     "execution_count": 27,
     "metadata": {},
     "output_type": "execute_result"
    }
   ],
   "source": [
    "z_max = 10.5\n",
    "z_bin_size = 1\n",
    "\n",
    "bins = np.arange(0, z_max + z_bin_size, z_bin_size)\n",
    "bins"
   ]
  }
 ],
 "metadata": {
  "kernelspec": {
   "display_name": "default",
   "language": "python",
   "name": "python3"
  },
  "language_info": {
   "codemirror_mode": {
    "name": "ipython",
    "version": 3
   },
   "file_extension": ".py",
   "mimetype": "text/x-python",
   "name": "python",
   "nbconvert_exporter": "python",
   "pygments_lexer": "ipython3",
   "version": "3.13.5"
  }
 },
 "nbformat": 4,
 "nbformat_minor": 5
}
