{
 "cells": [
  {
   "cell_type": "markdown",
   "id": "84c3855c",
   "metadata": {},
   "source": [
    "# Processing Plot Lidar\n",
    "\n",
    "In this notebook we will create a lidar point cloud for each plot. This includes\n",
    "- Cropping to the plot geometry\n",
    "- Filter out noise or non ground, veg or undefined points\n",
    "- Saving cloud as a cloud optimised point cloud (COPC)\n",
    "\n",
    "To process the data we will use PDAL pipelines.\n",
    "We will also use dask to run the processing in parallel.\n",
    "\n",
    "NOTE: Processing of plot lidar is really only doene for visualisation purposes."
   ]
  },
  {
   "cell_type": "code",
   "execution_count": 1,
   "id": "3a0298a5",
   "metadata": {},
   "outputs": [],
   "source": [
    "from pathlib import Path\n",
    "import json\n",
    "\n",
    "import geopandas as gpd\n",
    "import pdal\n",
    "import pandas as pd"
   ]
  },
  {
   "cell_type": "markdown",
   "id": "36b3aa70",
   "metadata": {},
   "source": [
    "## Pipeline Template"
   ]
  },
  {
   "cell_type": "code",
   "execution_count": null,
   "id": "94495683",
   "metadata": {},
   "outputs": [],
   "source": [
    "# Note, we could have this just a string, but as a dict allows us to add comments\n",
    "def create_plot_pipeline(input_path: str = '', output_path: str = '', polygon_wkt: str = ''):\n",
    "    pipeline_dict = [\n",
    "        # Read the input LAS file\n",
    "        {\n",
    "            \"type\": \"readers.copc\",\n",
    "            \"filename\": input_path,\n",
    "            \"polygon\": polygon_wkt,\n",
    "        },\n",
    "        \n",
    "        # Only take unclassified, ground and vegetation points\n",
    "        {\n",
    "            \"type\": \"filters.range\",\n",
    "            \"limits\": \"Classification[0:5]\",\n",
    "        },\n",
    "\n",
    "        # Save as a COPC file\n",
    "        {\n",
    "            \"type\": \"writers.copc\",\n",
    "            \"filename\": output_path,\n",
    "            \"forward\": \"scale,offset\",\n",
    "            \"extra_dims\": \"all\"\n",
    "        }\n",
    "    ]\n",
    "\n",
    "    return json.dumps(pipeline_dict, indent=2)"
   ]
  },
  {
   "cell_type": "markdown",
   "id": "5cb1ca19",
   "metadata": {},
   "source": [
    "### Plot pipelines"
   ]
  },
  {
   "cell_type": "code",
   "execution_count": 3,
   "id": "956ce541",
   "metadata": {},
   "outputs": [
    {
     "data": {
      "text/html": [
       "<div>\n",
       "<style scoped>\n",
       "    .dataframe tbody tr th:only-of-type {\n",
       "        vertical-align: middle;\n",
       "    }\n",
       "\n",
       "    .dataframe tbody tr th {\n",
       "        vertical-align: top;\n",
       "    }\n",
       "\n",
       "    .dataframe thead th {\n",
       "        text-align: right;\n",
       "    }\n",
       "</style>\n",
       "<table border=\"1\" class=\"dataframe\">\n",
       "  <thead>\n",
       "    <tr style=\"text-align: right;\">\n",
       "      <th></th>\n",
       "      <th>site</th>\n",
       "      <th>plot_number</th>\n",
       "      <th>site_plot_id</th>\n",
       "      <th>geometry</th>\n",
       "    </tr>\n",
       "    <tr>\n",
       "      <th>id</th>\n",
       "      <th></th>\n",
       "      <th></th>\n",
       "      <th></th>\n",
       "      <th></th>\n",
       "    </tr>\n",
       "  </thead>\n",
       "  <tbody>\n",
       "    <tr>\n",
       "      <th>AGG_O_01_P1</th>\n",
       "      <td>AGG_O_01</td>\n",
       "      <td>1</td>\n",
       "      <td>AGG_O_01_P1</td>\n",
       "      <td>POLYGON ((463042.83 5259846.736, 463025.797 52...</td>\n",
       "    </tr>\n",
       "    <tr>\n",
       "      <th>AGG_O_01_P2</th>\n",
       "      <td>AGG_O_01</td>\n",
       "      <td>2</td>\n",
       "      <td>AGG_O_01_P2</td>\n",
       "      <td>POLYGON ((463124.556 5259819.234, 463116.068 5...</td>\n",
       "    </tr>\n",
       "    <tr>\n",
       "      <th>AGG_O_01_P3</th>\n",
       "      <td>AGG_O_01</td>\n",
       "      <td>3</td>\n",
       "      <td>AGG_O_01_P3</td>\n",
       "      <td>POLYGON ((463201.174 5259815.806, 463200.551 5...</td>\n",
       "    </tr>\n",
       "    <tr>\n",
       "      <th>AGG_O_01_P4</th>\n",
       "      <td>AGG_O_01</td>\n",
       "      <td>4</td>\n",
       "      <td>AGG_O_01_P4</td>\n",
       "      <td>POLYGON ((463257.777 5259801.962, 463245.303 5...</td>\n",
       "    </tr>\n",
       "    <tr>\n",
       "      <th>AGG_O_01_P5</th>\n",
       "      <td>AGG_O_01</td>\n",
       "      <td>5</td>\n",
       "      <td>AGG_O_01_P5</td>\n",
       "      <td>POLYGON ((463303.022 5259789.552, 463289.794 5...</td>\n",
       "    </tr>\n",
       "  </tbody>\n",
       "</table>\n",
       "</div>"
      ],
      "text/plain": [
       "                 site  plot_number site_plot_id  \\\n",
       "id                                                \n",
       "AGG_O_01_P1  AGG_O_01            1  AGG_O_01_P1   \n",
       "AGG_O_01_P2  AGG_O_01            2  AGG_O_01_P2   \n",
       "AGG_O_01_P3  AGG_O_01            3  AGG_O_01_P3   \n",
       "AGG_O_01_P4  AGG_O_01            4  AGG_O_01_P4   \n",
       "AGG_O_01_P5  AGG_O_01            5  AGG_O_01_P5   \n",
       "\n",
       "                                                      geometry  \n",
       "id                                                              \n",
       "AGG_O_01_P1  POLYGON ((463042.83 5259846.736, 463025.797 52...  \n",
       "AGG_O_01_P2  POLYGON ((463124.556 5259819.234, 463116.068 5...  \n",
       "AGG_O_01_P3  POLYGON ((463201.174 5259815.806, 463200.551 5...  \n",
       "AGG_O_01_P4  POLYGON ((463257.777 5259801.962, 463245.303 5...  \n",
       "AGG_O_01_P5  POLYGON ((463303.022 5259789.552, 463289.794 5...  "
      ]
     },
     "execution_count": 3,
     "metadata": {},
     "output_type": "execute_result"
    }
   ],
   "source": [
    "plots_gdf = gpd.read_file(\"../data/outputs/plots/plots.geojson\")\n",
    "plots_gdf = plots_gdf.set_index('id')\n",
    "plots_gdf.head()"
   ]
  },
  {
   "cell_type": "code",
   "execution_count": 4,
   "id": "3412bebb",
   "metadata": {},
   "outputs": [
    {
     "data": {
      "application/vnd.microsoft.datawrangler.viewer.v0+json": {
       "columns": [
        {
         "name": "id",
         "rawType": "object",
         "type": "string"
        },
        {
         "name": "pipeline",
         "rawType": "object",
         "type": "string"
        }
       ],
       "ref": "6966ddd7-e47d-4e40-b008-993cc851fa6b",
       "rows": [
        [
         "AGG_O_01_P1",
         "[\n  {\n    \"type\": \"readers.copc\",\n    \"filename\": \"../data/outputs/sites/lidar/AGG_O_01.copc.laz\",\n    \"polygon\": \"POLYGON ((463042.83002541395 5259846.735807601, 463025.79692534194 5259799.726515798, 462975.6639067796 5259817.891450633, 462992.69700685085 5259864.900742435, 463042.83002541395 5259846.735807601))\"\n  },\n  {\n    \"type\": \"filters.range\",\n    \"limits\": \"Classification[0:5]\"\n  },\n  {\n    \"type\": \"writers.copc\",\n    \"filename\": \"../data/outputs/plots/lidar/AGG_O_01_P1.copc.laz\",\n    \"forward\": \"scale,offset\",\n    \"extra_dims\": \"all\"\n  }\n]"
        ],
        [
         "AGG_O_01_P2",
         "[\n  {\n    \"type\": \"readers.copc\",\n    \"filename\": \"../data/outputs/sites/lidar/AGG_O_01.copc.laz\",\n    \"polygon\": \"POLYGON ((463124.5559705289 5259819.234357965, 463116.0676977193 5259769.960133075, 463069.17769627925 5259778.03768529, 463077.66596909094 5259827.311910177, 463124.5559705289 5259819.234357965))\"\n  },\n  {\n    \"type\": \"filters.range\",\n    \"limits\": \"Classification[0:5]\"\n  },\n  {\n    \"type\": \"writers.copc\",\n    \"filename\": \"../data/outputs/plots/lidar/AGG_O_01_P2.copc.laz\",\n    \"forward\": \"scale,offset\",\n    \"extra_dims\": \"all\"\n  }\n]"
        ],
        [
         "AGG_O_01_P3",
         "[\n  {\n    \"type\": \"readers.copc\",\n    \"filename\": \"../data/outputs/sites/lidar/AGG_O_01.copc.laz\",\n    \"polygon\": \"POLYGON ((463201.17420314753 5259815.8060143525, 463200.5510703047 5259765.809897311, 463143.57647950767 5259766.520007233, 463144.1996123493 5259816.516124275, 463201.17420314753 5259815.8060143525))\"\n  },\n  {\n    \"type\": \"filters.range\",\n    \"limits\": \"Classification[0:5]\"\n  },\n  {\n    \"type\": \"writers.copc\",\n    \"filename\": \"../data/outputs/plots/lidar/AGG_O_01_P3.copc.laz\",\n    \"forward\": \"scale,offset\",\n    \"extra_dims\": \"all\"\n  }\n]"
        ],
        [
         "AGG_O_01_P4",
         "[\n  {\n    \"type\": \"readers.copc\",\n    \"filename\": \"../data/outputs/sites/lidar/AGG_O_01.copc.laz\",\n    \"polygon\": \"POLYGON ((463257.7765840342 5259801.962108289, 463245.30290701694 5259753.543027388, 463194.62579821685 5259766.598415383, 463207.099475233 5259815.017496282, 463257.7765840342 5259801.962108289))\"\n  },\n  {\n    \"type\": \"filters.range\",\n    \"limits\": \"Classification[0:5]\"\n  },\n  {\n    \"type\": \"writers.copc\",\n    \"filename\": \"../data/outputs/plots/lidar/AGG_O_01_P4.copc.laz\",\n    \"forward\": \"scale,offset\",\n    \"extra_dims\": \"all\"\n  }\n]"
        ],
        [
         "AGG_O_01_P5",
         "[\n  {\n    \"type\": \"readers.copc\",\n    \"filename\": \"../data/outputs/sites/lidar/AGG_O_01.copc.laz\",\n    \"polygon\": \"POLYGON ((463303.0221890787 5259789.552384787, 463289.7937491529 5259741.334043972, 463244.9255255624 5259753.643397431, 463258.15396548726 5259801.861738248, 463303.0221890787 5259789.552384787))\"\n  },\n  {\n    \"type\": \"filters.range\",\n    \"limits\": \"Classification[0:5]\"\n  },\n  {\n    \"type\": \"writers.copc\",\n    \"filename\": \"../data/outputs/plots/lidar/AGG_O_01_P5.copc.laz\",\n    \"forward\": \"scale,offset\",\n    \"extra_dims\": \"all\"\n  }\n]"
        ],
        [
         "AGG_O_05_P1",
         "[\n  {\n    \"type\": \"readers.copc\",\n    \"filename\": \"../data/outputs/sites/lidar/AGG_O_05.copc.laz\",\n    \"polygon\": \"POLYGON ((455349.8356727567 5284229.271114891, 455311.3814690728 5284197.313733389, 455280.5388364033 5284234.426563768, 455318.9930400863 5284266.383945269, 455349.8356727567 5284229.271114891))\"\n  },\n  {\n    \"type\": \"filters.range\",\n    \"limits\": \"Classification[0:5]\"\n  },\n  {\n    \"type\": \"writers.copc\",\n    \"filename\": \"../data/outputs/plots/lidar/AGG_O_05_P1.copc.laz\",\n    \"forward\": \"scale,offset\",\n    \"extra_dims\": \"all\"\n  }\n]"
        ],
        [
         "AGG_O_05_P2",
         "[\n  {\n    \"type\": \"readers.copc\",\n    \"filename\": \"../data/outputs/sites/lidar/AGG_O_05.copc.laz\",\n    \"polygon\": \"POLYGON ((455389.39058700885 5284205.376007845, 455366.69105472474 5284160.825685203, 455322.6892204826 5284183.245748583, 455345.38875276956 5284227.796071223, 455389.39058700885 5284205.376007845))\"\n  },\n  {\n    \"type\": \"filters.range\",\n    \"limits\": \"Classification[0:5]\"\n  },\n  {\n    \"type\": \"writers.copc\",\n    \"filename\": \"../data/outputs/plots/lidar/AGG_O_05_P2.copc.laz\",\n    \"forward\": \"scale,offset\",\n    \"extra_dims\": \"all\"\n  }\n]"
        ],
        [
         "AGG_O_05_P3",
         "[\n  {\n    \"type\": \"readers.copc\",\n    \"filename\": \"../data/outputs/sites/lidar/AGG_O_05.copc.laz\",\n    \"polygon\": \"POLYGON ((455433.990500806 5284190.7066375455, 455417.9427197362 5284143.351925676, 455371.27045505476 5284159.168435925, 455387.3182361226 5284206.5231477935, 455433.990500806 5284190.7066375455))\"\n  },\n  {\n    \"type\": \"filters.range\",\n    \"limits\": \"Classification[0:5]\"\n  },\n  {\n    \"type\": \"writers.copc\",\n    \"filename\": \"../data/outputs/plots/lidar/AGG_O_05_P3.copc.laz\",\n    \"forward\": \"scale,offset\",\n    \"extra_dims\": \"all\"\n  }\n]"
        ],
        [
         "AGG_O_05_P4",
         "[\n  {\n    \"type\": \"readers.copc\",\n    \"filename\": \"../data/outputs/sites/lidar/AGG_O_05.copc.laz\",\n    \"polygon\": \"POLYGON ((455259.5724825402 5284171.278534674, 455237.30993747374 5284216.048827288, 455278.9388436683 5284236.7492816765, 455301.201388731 5284191.978989065, 455259.5724825402 5284171.278534674))\"\n  },\n  {\n    \"type\": \"filters.range\",\n    \"limits\": \"Classification[0:5]\"\n  },\n  {\n    \"type\": \"writers.copc\",\n    \"filename\": \"../data/outputs/plots/lidar/AGG_O_05_P4.copc.laz\",\n    \"forward\": \"scale,offset\",\n    \"extra_dims\": \"all\"\n  }\n]"
        ],
        [
         "AGG_O_05_P5",
         "[\n  {\n    \"type\": \"readers.copc\",\n    \"filename\": \"../data/outputs/sites/lidar/AGG_O_05.copc.laz\",\n    \"polygon\": \"POLYGON ((455206.9267008106 5284158.64854653, 455195.90235149255 5284207.418042486, 455242.9290353456 5284218.048428957, 455253.9533846639 5284169.278933003, 455206.9267008106 5284158.64854653))\"\n  },\n  {\n    \"type\": \"filters.range\",\n    \"limits\": \"Classification[0:5]\"\n  },\n  {\n    \"type\": \"writers.copc\",\n    \"filename\": \"../data/outputs/plots/lidar/AGG_O_05_P5.copc.laz\",\n    \"forward\": \"scale,offset\",\n    \"extra_dims\": \"all\"\n  }\n]"
        ],
        [
         "AGG_O_07_P1",
         "[\n  {\n    \"type\": \"readers.copc\",\n    \"filename\": \"../data/outputs/sites/lidar/AGG_O_07.copc.laz\",\n    \"polygon\": \"POLYGON ((464742.7982296669 5299401.839020812, 464694.0062046385 5299390.9148134, 464683.1541008083 5299439.384794029, 464731.94612583914 5299450.309001439, 464742.7982296669 5299401.839020812))\"\n  },\n  {\n    \"type\": \"filters.range\",\n    \"limits\": \"Classification[0:5]\"\n  },\n  {\n    \"type\": \"writers.copc\",\n    \"filename\": \"../data/outputs/plots/lidar/AGG_O_07_P1.copc.laz\",\n    \"forward\": \"scale,offset\",\n    \"extra_dims\": \"all\"\n  }\n]"
        ],
        [
         "AGG_O_07_P2",
         "[\n  {\n    \"type\": \"readers.copc\",\n    \"filename\": \"../data/outputs/sites/lidar/AGG_O_07.copc.laz\",\n    \"polygon\": \"POLYGON ((464731.83120198897 5299316.648604007, 464686.6472654625 5299295.23804834, 464665.70325300854 5299339.43741169, 464710.8871895326 5299360.8479673555, 464731.83120198897 5299316.648604007))\"\n  },\n  {\n    \"type\": \"filters.range\",\n    \"limits\": \"Classification[0:5]\"\n  },\n  {\n    \"type\": \"writers.copc\",\n    \"filename\": \"../data/outputs/plots/lidar/AGG_O_07_P2.copc.laz\",\n    \"forward\": \"scale,offset\",\n    \"extra_dims\": \"all\"\n  }\n]"
        ],
        [
         "AGG_O_07_P3",
         "[\n  {\n    \"type\": \"readers.copc\",\n    \"filename\": \"../data/outputs/sites/lidar/AGG_O_07.copc.laz\",\n    \"polygon\": \"POLYGON ((464748.9633852039 5299266.244659941, 464701.5708553997 5299250.308909798, 464685.5429688209 5299297.975451103, 464732.9354986267 5299313.911201246, 464748.9633852039 5299266.244659941))\"\n  },\n  {\n    \"type\": \"filters.range\",\n    \"limits\": \"Classification[0:5]\"\n  },\n  {\n    \"type\": \"writers.copc\",\n    \"filename\": \"../data/outputs/plots/lidar/AGG_O_07_P3.copc.laz\",\n    \"forward\": \"scale,offset\",\n    \"extra_dims\": \"all\"\n  }\n]"
        ],
        [
         "AGG_O_07_P4",
         "[\n  {\n    \"type\": \"readers.copc\",\n    \"filename\": \"../data/outputs/sites/lidar/AGG_O_07.copc.laz\",\n    \"polygon\": \"POLYGON ((464765.1370413104 5299221.293939862, 464718.08786747453 5299204.371314323, 464701.7425333829 5299249.815472099, 464748.79170721985 5299266.73809764, 464765.1370413104 5299221.293939862))\"\n  },\n  {\n    \"type\": \"filters.range\",\n    \"limits\": \"Classification[0:5]\"\n  },\n  {\n    \"type\": \"writers.copc\",\n    \"filename\": \"../data/outputs/plots/lidar/AGG_O_07_P4.copc.laz\",\n    \"forward\": \"scale,offset\",\n    \"extra_dims\": \"all\"\n  }\n]"
        ],
        [
         "AGG_O_07_P5",
         "[\n  {\n    \"type\": \"readers.copc\",\n    \"filename\": \"../data/outputs/sites/lidar/AGG_O_07.copc.laz\",\n    \"polygon\": \"POLYGON ((464808.51213074615 5299232.6370385, 464813.0625018615 5299182.844527652, 464765.4776241968 5299178.495904753, 464760.9272530833 5299228.288415603, 464808.51213074615 5299232.6370385))\"\n  },\n  {\n    \"type\": \"filters.range\",\n    \"limits\": \"Classification[0:5]\"\n  },\n  {\n    \"type\": \"writers.copc\",\n    \"filename\": \"../data/outputs/plots/lidar/AGG_O_07_P5.copc.laz\",\n    \"forward\": \"scale,offset\",\n    \"extra_dims\": \"all\"\n  }\n]"
        ],
        [
         "AGG_Y_02_P1",
         "[\n  {\n    \"type\": \"readers.copc\",\n    \"filename\": \"../data/outputs/sites/lidar/AGG_Y_02.copc.laz\",\n    \"polygon\": \"POLYGON ((491948.508224679 5231127.452598249, 491909.9595735175 5231159.295988595, 491943.29131412087 5231199.6463918425, 491981.8399652809 5231167.803001496, 491948.508224679 5231127.452598249))\"\n  },\n  {\n    \"type\": \"filters.range\",\n    \"limits\": \"Classification[0:5]\"\n  },\n  {\n    \"type\": \"writers.copc\",\n    \"filename\": \"../data/outputs/plots/lidar/AGG_Y_02_P1.copc.laz\",\n    \"forward\": \"scale,offset\",\n    \"extra_dims\": \"all\"\n  }\n]"
        ],
        [
         "AGG_Y_02_P2",
         "[\n  {\n    \"type\": \"readers.copc\",\n    \"filename\": \"../data/outputs/sites/lidar/AGG_Y_02.copc.laz\",\n    \"polygon\": \"POLYGON ((491908.4504550449 5231087.2292515375, 491873.0922396522 5231122.581714239, 491911.5547914 5231161.050524769, 491946.91300679574 5231125.69806207, 491908.4504550449 5231087.2292515375))\"\n  },\n  {\n    \"type\": \"filters.range\",\n    \"limits\": \"Classification[0:5]\"\n  },\n  {\n    \"type\": \"writers.copc\",\n    \"filename\": \"../data/outputs/plots/lidar/AGG_Y_02_P2.copc.laz\",\n    \"forward\": \"scale,offset\",\n    \"extra_dims\": \"all\"\n  }\n]"
        ],
        [
         "AGG_Y_02_P3",
         "[\n  {\n    \"type\": \"readers.copc\",\n    \"filename\": \"../data/outputs/sites/lidar/AGG_Y_02.copc.laz\",\n    \"polygon\": \"POLYGON ((491878.9832544241 5231052.907680126, 491841.09680940356 5231085.536153868, 491871.8281248365 5231121.219719758, 491909.71456986066 5231088.591246017, 491878.9832544241 5231052.907680126))\"\n  },\n  {\n    \"type\": \"filters.range\",\n    \"limits\": \"Classification[0:5]\"\n  },\n  {\n    \"type\": \"writers.copc\",\n    \"filename\": \"../data/outputs/plots/lidar/AGG_Y_02_P3.copc.laz\",\n    \"forward\": \"scale,offset\",\n    \"extra_dims\": \"all\"\n  }\n]"
        ],
        [
         "AGG_Y_02_P5",
         "[\n  {\n    \"type\": \"readers.copc\",\n    \"filename\": \"../data/outputs/sites/lidar/AGG_Y_02.copc.laz\",\n    \"polygon\": \"POLYGON ((491914.2604392029 5231003.875613814, 491867.5432854398 5230986.056872021, 491851.4551531948 5231028.236715956, 491898.1723069593 5231046.055457747, 491914.2604392029 5231003.875613814))\"\n  },\n  {\n    \"type\": \"filters.range\",\n    \"limits\": \"Classification[0:5]\"\n  },\n  {\n    \"type\": \"writers.copc\",\n    \"filename\": \"../data/outputs/plots/lidar/AGG_Y_02_P5.copc.laz\",\n    \"forward\": \"scale,offset\",\n    \"extra_dims\": \"all\"\n  }\n]"
        ],
        [
         "AGG_Y_02_P4",
         "[\n  {\n    \"type\": \"readers.copc\",\n    \"filename\": \"../data/outputs/sites/lidar/AGG_Y_02.copc.laz\",\n    \"polygon\": \"POLYGON ((491998.68360573036 5231110.514513948, 491949.08235251566 5231116.816552832, 491954.48703388224 5231159.355003293, 492004.08828709874 5231153.052964405, 491998.68360573036 5231110.514513948))\"\n  },\n  {\n    \"type\": \"filters.range\",\n    \"limits\": \"Classification[0:5]\"\n  },\n  {\n    \"type\": \"writers.copc\",\n    \"filename\": \"../data/outputs/plots/lidar/AGG_Y_02_P4.copc.laz\",\n    \"forward\": \"scale,offset\",\n    \"extra_dims\": \"all\"\n  }\n]"
        ],
        [
         "AGG_Y_03_P1",
         "[\n  {\n    \"type\": \"readers.copc\",\n    \"filename\": \"../data/outputs/sites/lidar/AGG_Y_03.copc.laz\",\n    \"polygon\": \"POLYGON ((490680.9843082529 5209105.893164088, 490671.7242454367 5209056.758133292, 490620.8303556163 5209066.349673361, 490630.09041843325 5209115.4847041555, 490680.9843082529 5209105.893164088))\"\n  },\n  {\n    \"type\": \"filters.range\",\n    \"limits\": \"Classification[0:5]\"\n  },\n  {\n    \"type\": \"writers.copc\",\n    \"filename\": \"../data/outputs/plots/lidar/AGG_Y_03_P1.copc.laz\",\n    \"forward\": \"scale,offset\",\n    \"extra_dims\": \"all\"\n  }\n]"
        ],
        [
         "AGG_Y_03_P2",
         "[\n  {\n    \"type\": \"readers.copc\",\n    \"filename\": \"../data/outputs/sites/lidar/AGG_Y_03.copc.laz\",\n    \"polygon\": \"POLYGON ((490727.0026617238 5209098.643653999, 490719.21010190266 5209049.254626612, 490672.45799693523 5209056.631134996, 490680.25055675517 5209106.020162382, 490727.0026617238 5209098.643653999))\"\n  },\n  {\n    \"type\": \"filters.range\",\n    \"limits\": \"Classification[0:5]\"\n  },\n  {\n    \"type\": \"writers.copc\",\n    \"filename\": \"../data/outputs/plots/lidar/AGG_Y_03_P2.copc.laz\",\n    \"forward\": \"scale,offset\",\n    \"extra_dims\": \"all\"\n  }\n]"
        ],
        [
         "AGG_Y_03_P3",
         "[\n  {\n    \"type\": \"readers.copc\",\n    \"filename\": \"../data/outputs/sites/lidar/AGG_Y_03.copc.laz\",\n    \"polygon\": \"POLYGON ((490768.4845556968 5208917.70356912, 490720.4953354212 5208931.740475892, 490734.4687621856 5208979.512671432, 490782.45798246184 5208965.475764662, 490768.4845556968 5208917.70356912))\"\n  },\n  {\n    \"type\": \"filters.range\",\n    \"limits\": \"Classification[0:5]\"\n  },\n  {\n    \"type\": \"writers.copc\",\n    \"filename\": \"../data/outputs/plots/lidar/AGG_Y_03_P3.copc.laz\",\n    \"forward\": \"scale,offset\",\n    \"extra_dims\": \"all\"\n  }\n]"
        ],
        [
         "AGG_Y_04_P1",
         "[\n  {\n    \"type\": \"readers.copc\",\n    \"filename\": \"../data/outputs/sites/lidar/AGG_Y_04.copc.laz\",\n    \"polygon\": \"POLYGON ((478568.22391356376 5242545.939251581, 478539.7644042796 5242587.049546467, 478580.5327434989 5242615.272329393, 478608.9922527823 5242574.162034505, 478568.22391356376 5242545.939251581))\"\n  },\n  {\n    \"type\": \"filters.range\",\n    \"limits\": \"Classification[0:5]\"\n  },\n  {\n    \"type\": \"writers.copc\",\n    \"filename\": \"../data/outputs/plots/lidar/AGG_Y_04_P1.copc.laz\",\n    \"forward\": \"scale,offset\",\n    \"extra_dims\": \"all\"\n  }\n]"
        ],
        [
         "AGG_Y_04_P2",
         "[\n  {\n    \"type\": \"readers.copc\",\n    \"filename\": \"../data/outputs/sites/lidar/AGG_Y_04.copc.laz\",\n    \"polygon\": \"POLYGON ((478532.64575554495 5242498.521208575, 478508.10876517906 5242542.086517228, 478552.7192076602 5242567.212151162, 478577.2561980282 5242523.646842508, 478532.64575554495 5242498.521208575))\"\n  },\n  {\n    \"type\": \"filters.range\",\n    \"limits\": \"Classification[0:5]\"\n  },\n  {\n    \"type\": \"writers.copc\",\n    \"filename\": \"../data/outputs/plots/lidar/AGG_Y_04_P2.copc.laz\",\n    \"forward\": \"scale,offset\",\n    \"extra_dims\": \"all\"\n  }\n]"
        ],
        [
         "AGG_Y_04_P3",
         "[\n  {\n    \"type\": \"readers.copc\",\n    \"filename\": \"../data/outputs/sites/lidar/AGG_Y_04.copc.laz\",\n    \"polygon\": \"POLYGON ((478429.52826035785 5242360.032646356, 478379.83811824187 5242354.474787894, 478374.6356122523 5242400.987894292, 478424.3257543691 5242406.5457527535, 478429.52826035785 5242360.032646356))\"\n  },\n  {\n    \"type\": \"filters.range\",\n    \"limits\": \"Classification[0:5]\"\n  },\n  {\n    \"type\": \"writers.copc\",\n    \"filename\": \"../data/outputs/plots/lidar/AGG_Y_04_P3.copc.laz\",\n    \"forward\": \"scale,offset\",\n    \"extra_dims\": \"all\"\n  }\n]"
        ],
        [
         "AGG_Y_04_P4",
         "[\n  {\n    \"type\": \"readers.copc\",\n    \"filename\": \"../data/outputs/sites/lidar/AGG_Y_04.copc.laz\",\n    \"polygon\": \"POLYGON ((478513.91737402085 5242464.393970429, 478473.62139870727 5242434.792713908, 478447.49573064444 5242470.35739592, 478487.79170595785 5242499.95865244, 478513.91737402085 5242464.393970429))\"\n  },\n  {\n    \"type\": \"filters.range\",\n    \"limits\": \"Classification[0:5]\"\n  },\n  {\n    \"type\": \"writers.copc\",\n    \"filename\": \"../data/outputs/plots/lidar/AGG_Y_04_P4.copc.laz\",\n    \"forward\": \"scale,offset\",\n    \"extra_dims\": \"all\"\n  }\n]"
        ],
        [
         "AGG_Y_04_P5",
         "[\n  {\n    \"type\": \"readers.copc\",\n    \"filename\": \"../data/outputs/sites/lidar/AGG_Y_04.copc.laz\",\n    \"polygon\": \"POLYGON ((478544.28340083186 5242422.204404258, 478503.7012476233 5242392.996719393, 478473.47830976016 5242434.989499736, 478514.0604629685 5242464.197184602, 478544.28340083186 5242422.204404258))\"\n  },\n  {\n    \"type\": \"filters.range\",\n    \"limits\": \"Classification[0:5]\"\n  },\n  {\n    \"type\": \"writers.copc\",\n    \"filename\": \"../data/outputs/plots/lidar/AGG_Y_04_P5.copc.laz\",\n    \"forward\": \"scale,offset\",\n    \"extra_dims\": \"all\"\n  }\n]"
        ],
        [
         "EPO_O_04_P1",
         "[\n  {\n    \"type\": \"readers.copc\",\n    \"filename\": \"../data/outputs/sites/lidar/EPO_O_04.copc.laz\",\n    \"polygon\": \"POLYGON ((474497.2499327056 5272186.053331996, 474494.05799742625 5272136.155320375, 474446.4619651481 5272139.199999906, 474449.6539004226 5272189.0980115235, 474497.2499327056 5272186.053331996))\"\n  },\n  {\n    \"type\": \"filters.range\",\n    \"limits\": \"Classification[0:5]\"\n  },\n  {\n    \"type\": \"writers.copc\",\n    \"filename\": \"../data/outputs/plots/lidar/EPO_O_04_P1.copc.laz\",\n    \"forward\": \"scale,offset\",\n    \"extra_dims\": \"all\"\n  }\n]"
        ],
        [
         "EPO_O_04_P2",
         "[\n  {\n    \"type\": \"readers.copc\",\n    \"filename\": \"../data/outputs/sites/lidar/EPO_O_04.copc.laz\",\n    \"polygon\": \"POLYGON ((474551.6767138597 5272181.43832027, 474547.447285768 5272131.6175218765, 474493.53925102134 5272136.193926989, 474497.7686791097 5272186.014725384, 474551.6767138597 5272181.43832027))\"\n  },\n  {\n    \"type\": \"filters.range\",\n    \"limits\": \"Classification[0:5]\"\n  },\n  {\n    \"type\": \"writers.copc\",\n    \"filename\": \"../data/outputs/plots/lidar/EPO_O_04_P2.copc.laz\",\n    \"forward\": \"scale,offset\",\n    \"extra_dims\": \"all\"\n  }\n]"
        ],
        [
         "EPO_O_04_P4",
         "[\n  {\n    \"type\": \"readers.copc\",\n    \"filename\": \"../data/outputs/sites/lidar/EPO_O_04.copc.laz\",\n    \"polygon\": \"POLYGON ((474648.54549762374 5272181.555379391, 474647.96080190304 5272131.558798052, 474590.13589098444 5272132.235043854, 474590.7205867091 5272182.231625194, 474648.54549762374 5272181.555379391))\"\n  },\n  {\n    \"type\": \"filters.range\",\n    \"limits\": \"Classification[0:5]\"\n  },\n  {\n    \"type\": \"writers.copc\",\n    \"filename\": \"../data/outputs/plots/lidar/EPO_O_04_P4.copc.laz\",\n    \"forward\": \"scale,offset\",\n    \"extra_dims\": \"all\"\n  }\n]"
        ],
        [
         "EPO_O_04_P5",
         "[\n  {\n    \"type\": \"readers.copc\",\n    \"filename\": \"../data/outputs/sites/lidar/EPO_O_04.copc.laz\",\n    \"polygon\": \"POLYGON ((474701.5706093387 5272174.2759859385, 474694.5793047943 5272124.767181925, 474644.7574974914 5272131.802686715, 474651.7488020349 5272181.311490731, 474701.5706093387 5272174.2759859385))\"\n  },\n  {\n    \"type\": \"filters.range\",\n    \"limits\": \"Classification[0:5]\"\n  },\n  {\n    \"type\": \"writers.copc\",\n    \"filename\": \"../data/outputs/plots/lidar/EPO_O_04_P5.copc.laz\",\n    \"forward\": \"scale,offset\",\n    \"extra_dims\": \"all\"\n  }\n]"
        ],
        [
         "EPO_O_04_P3",
         "[\n  {\n    \"type\": \"readers.copc\",\n    \"filename\": \"../data/outputs/sites/lidar/EPO_O_04.copc.laz\",\n    \"polygon\": \"POLYGON ((474549.99347356765 5272131.531644671, 474549.1305260614 5272181.524197477, 474589.99676509405 5272182.2296109265, 474590.8597126001 5272132.237058119, 474549.99347356765 5272131.531644671))\"\n  },\n  {\n    \"type\": \"filters.range\",\n    \"limits\": \"Classification[0:5]\"\n  },\n  {\n    \"type\": \"writers.copc\",\n    \"filename\": \"../data/outputs/plots/lidar/EPO_O_04_P3.copc.laz\",\n    \"forward\": \"scale,offset\",\n    \"extra_dims\": \"all\"\n  }\n]"
        ],
        [
         "EPO_O_13_P1",
         "[\n  {\n    \"type\": \"readers.copc\",\n    \"filename\": \"../data/outputs/sites/lidar/EPO_O_13.copc.laz\",\n    \"polygon\": \"POLYGON ((490023.3509136736 5257490.657806506, 489990.3304360134 5257528.203086769, 490024.8567931486 5257558.56846949, 490057.8772708093 5257521.023189228, 490023.3509136736 5257490.657806506))\"\n  },\n  {\n    \"type\": \"filters.range\",\n    \"limits\": \"Classification[0:5]\"\n  },\n  {\n    \"type\": \"writers.copc\",\n    \"filename\": \"../data/outputs/plots/lidar/EPO_O_13_P1.copc.laz\",\n    \"forward\": \"scale,offset\",\n    \"extra_dims\": \"all\"\n  }\n]"
        ],
        [
         "EPO_O_13_P2",
         "[\n  {\n    \"type\": \"readers.copc\",\n    \"filename\": \"../data/outputs/sites/lidar/EPO_O_13.copc.laz\",\n    \"polygon\": \"POLYGON ((489989.997975349 5257455.582868213, 489953.8321182818 5257490.108667226, 489988.75774631073 5257526.693346144, 490024.9236033776 5257492.16754713, 489989.997975349 5257455.582868213))\"\n  },\n  {\n    \"type\": \"filters.range\",\n    \"limits\": \"Classification[0:5]\"\n  },\n  {\n    \"type\": \"writers.copc\",\n    \"filename\": \"../data/outputs/plots/lidar/EPO_O_13_P2.copc.laz\",\n    \"forward\": \"scale,offset\",\n    \"extra_dims\": \"all\"\n  }\n]"
        ],
        [
         "EPO_O_13_P3",
         "[\n  {\n    \"type\": \"readers.copc\",\n    \"filename\": \"../data/outputs/sites/lidar/EPO_O_13.copc.laz\",\n    \"polygon\": \"POLYGON ((489955.6099760018 5257418.308611352, 489918.8628766915 5257452.215110837, 489953.5414971608 5257489.79901746, 489990.2885964702 5257455.8925179755, 489955.6099760018 5257418.308611352))\"\n  },\n  {\n    \"type\": \"filters.range\",\n    \"limits\": \"Classification[0:5]\"\n  },\n  {\n    \"type\": \"writers.copc\",\n    \"filename\": \"../data/outputs/plots/lidar/EPO_O_13_P3.copc.laz\",\n    \"forward\": \"scale,offset\",\n    \"extra_dims\": \"all\"\n  }\n]"
        ],
        [
         "EPO_O_13_P4",
         "[\n  {\n    \"type\": \"readers.copc\",\n    \"filename\": \"../data/outputs/sites/lidar/EPO_O_13.copc.laz\",\n    \"polygon\": \"POLYGON ((489923.6575338028 5257380.260427068, 489885.38553680986 5257412.435794372, 489918.10042784986 5257451.349544749, 489956.3724248403 5257419.174177442, 489923.6575338028 5257380.260427068))\"\n  },\n  {\n    \"type\": \"filters.range\",\n    \"limits\": \"Classification[0:5]\"\n  },\n  {\n    \"type\": \"writers.copc\",\n    \"filename\": \"../data/outputs/plots/lidar/EPO_O_13_P4.copc.laz\",\n    \"forward\": \"scale,offset\",\n    \"extra_dims\": \"all\"\n  }\n]"
        ],
        [
         "EPO_O_13_P5",
         "[\n  {\n    \"type\": \"readers.copc\",\n    \"filename\": \"../data/outputs/sites/lidar/EPO_O_13.copc.laz\",\n    \"polygon\": \"POLYGON ((489898.1803655941 5257347.35001087, 489858.6576784006 5257377.976097987, 489884.76019171026 5257411.6611542795, 489924.28287890257 5257381.0350671625, 489898.1803655941 5257347.35001087))\"\n  },\n  {\n    \"type\": \"filters.range\",\n    \"limits\": \"Classification[0:5]\"\n  },\n  {\n    \"type\": \"writers.copc\",\n    \"filename\": \"../data/outputs/plots/lidar/EPO_O_13_P5.copc.laz\",\n    \"forward\": \"scale,offset\",\n    \"extra_dims\": \"all\"\n  }\n]"
        ],
        [
         "AGG_Y_03_P4",
         "[\n  {\n    \"type\": \"readers.copc\",\n    \"filename\": \"../data/outputs/sites/lidar/AGG_Y_03.copc.laz\",\n    \"polygon\": \"POLYGON ((490752.8996968461 5208875.231241769, 490705.9823581127 5208892.516013698, 490721.0312761903 5208933.364408471, 490767.9486149264 5208916.079636543, 490752.8996968461 5208875.231241769))\"\n  },\n  {\n    \"type\": \"filters.range\",\n    \"limits\": \"Classification[0:5]\"\n  },\n  {\n    \"type\": \"writers.copc\",\n    \"filename\": \"../data/outputs/plots/lidar/AGG_Y_03_P4.copc.laz\",\n    \"forward\": \"scale,offset\",\n    \"extra_dims\": \"all\"\n  }\n]"
        ],
        [
         "AGG_Y_03_P5",
         "[\n  {\n    \"type\": \"readers.copc\",\n    \"filename\": \"../data/outputs/sites/lidar/AGG_Y_03.copc.laz\",\n    \"polygon\": \"POLYGON ((490736.6610225832 5208829.855178288, 490689.5851372641 5208846.703354331, 490705.9030848192 5208892.297715756, 490752.97897013894 5208875.449539712, 490736.6610225832 5208829.855178288))\"\n  },\n  {\n    \"type\": \"filters.range\",\n    \"limits\": \"Classification[0:5]\"\n  },\n  {\n    \"type\": \"writers.copc\",\n    \"filename\": \"../data/outputs/plots/lidar/AGG_Y_03_P5.copc.laz\",\n    \"forward\": \"scale,offset\",\n    \"extra_dims\": \"all\"\n  }\n]"
        ],
        [
         "EPO_Y_10_P1",
         "[\n  {\n    \"type\": \"readers.copc\",\n    \"filename\": \"../data/outputs/sites/lidar/EPO_Y_10.copc.laz\",\n    \"polygon\": \"POLYGON ((462249.0194641928 5260197.496280356, 462207.9853881208 5260168.926985394, 462179.71848547715 5260209.526735409, 462220.7525615461 5260238.096030372, 462249.0194641928 5260197.496280356))\"\n  },\n  {\n    \"type\": \"filters.range\",\n    \"limits\": \"Classification[0:5]\"\n  },\n  {\n    \"type\": \"writers.copc\",\n    \"filename\": \"../data/outputs/plots/lidar/EPO_Y_10_P1.copc.laz\",\n    \"forward\": \"scale,offset\",\n    \"extra_dims\": \"all\"\n  }\n]"
        ],
        [
         "EPO_Y_10_P2",
         "[\n  {\n    \"type\": \"readers.copc\",\n    \"filename\": \"../data/outputs/sites/lidar/EPO_Y_10.copc.laz\",\n    \"polygon\": \"POLYGON ((462272.38545571483 5260149.491671431, 462227.2961174332 5260127.882608822, 462205.9577570161 5260172.407101572, 462251.0470952986 5260194.016164177, 462272.38545571483 5260149.491671431))\"\n  },\n  {\n    \"type\": \"filters.range\",\n    \"limits\": \"Classification[0:5]\"\n  },\n  {\n    \"type\": \"writers.copc\",\n    \"filename\": \"../data/outputs/plots/lidar/EPO_Y_10_P2.copc.laz\",\n    \"forward\": \"scale,offset\",\n    \"extra_dims\": \"all\"\n  }\n]"
        ],
        [
         "EPO_Y_10_P3",
         "[\n  {\n    \"type\": \"readers.copc\",\n    \"filename\": \"../data/outputs/sites/lidar/EPO_Y_10.copc.laz\",\n    \"polygon\": \"POLYGON ((462295.36558188876 5260115.046301371, 462253.61855113314 5260087.529298688, 462228.9672711961 5260124.928638787, 462270.71430195053 5260152.44564147, 462295.36558188876 5260115.046301371))\"\n  },\n  {\n    \"type\": \"filters.range\",\n    \"limits\": \"Classification[0:5]\"\n  },\n  {\n    \"type\": \"writers.copc\",\n    \"filename\": \"../data/outputs/plots/lidar/EPO_Y_10_P3.copc.laz\",\n    \"forward\": \"scale,offset\",\n    \"extra_dims\": \"all\"\n  }\n]"
        ],
        [
         "EPO_Y_10_P4",
         "[\n  {\n    \"type\": \"readers.copc\",\n    \"filename\": \"../data/outputs/sites/lidar/EPO_Y_10.copc.laz\",\n    \"polygon\": \"POLYGON ((462327.9321955134 5260070.169802728, 462287.4518969568 5260040.821115492, 462254.25191723224 5260086.613456413, 462294.7322157893 5260115.962143647, 462327.9321955134 5260070.169802728))\"\n  },\n  {\n    \"type\": \"filters.range\",\n    \"limits\": \"Classification[0:5]\"\n  },\n  {\n    \"type\": \"writers.copc\",\n    \"filename\": \"../data/outputs/plots/lidar/EPO_Y_10_P4.copc.laz\",\n    \"forward\": \"scale,offset\",\n    \"extra_dims\": \"all\"\n  }\n]"
        ],
        [
         "EPO_Y_10_P5",
         "[\n  {\n    \"type\": \"readers.copc\",\n    \"filename\": \"../data/outputs/sites/lidar/EPO_Y_10.copc.laz\",\n    \"polygon\": \"POLYGON ((462329.6216325533 5260012.317033924, 462287.1969674343 5259985.856727745, 462260.96731525497 5260027.911577848, 462303.3919803744 5260054.371884029, 462329.6216325533 5260012.317033924))\"\n  },\n  {\n    \"type\": \"filters.range\",\n    \"limits\": \"Classification[0:5]\"\n  },\n  {\n    \"type\": \"writers.copc\",\n    \"filename\": \"../data/outputs/plots/lidar/EPO_Y_10_P5.copc.laz\",\n    \"forward\": \"scale,offset\",\n    \"extra_dims\": \"all\"\n  }\n]"
        ],
        [
         "EPO_Y_15_P1",
         "[\n  {\n    \"type\": \"readers.copc\",\n    \"filename\": \"../data/outputs/sites/lidar/EPO_Y_15.copc.laz\",\n    \"polygon\": \"POLYGON ((456550.1966167379 5299307.285356198, 456511.70360123814 5299275.374734592, 456477.81867418194 5299316.249307282, 456516.31168968184 5299348.15992889, 456550.1966167379 5299307.285356198))\"\n  },\n  {\n    \"type\": \"filters.range\",\n    \"limits\": \"Classification[0:5]\"\n  },\n  {\n    \"type\": \"writers.copc\",\n    \"filename\": \"../data/outputs/plots/lidar/EPO_Y_15_P1.copc.laz\",\n    \"forward\": \"scale,offset\",\n    \"extra_dims\": \"all\"\n  }\n]"
        ],
        [
         "EPO_Y_15_P2",
         "[\n  {\n    \"type\": \"readers.copc\",\n    \"filename\": \"../data/outputs/sites/lidar/EPO_Y_15.copc.laz\",\n    \"polygon\": \"POLYGON ((456587.33638127206 5299278.9631110225, 456556.53027954855 5299239.580575424, 456515.547058125 5299271.638777596, 456546.35315985105 5299311.021313192, 456587.33638127206 5299278.9631110225))\"\n  },\n  {\n    \"type\": \"filters.range\",\n    \"limits\": \"Classification[0:5]\"\n  },\n  {\n    \"type\": \"writers.copc\",\n    \"filename\": \"../data/outputs/plots/lidar/EPO_Y_15_P2.copc.laz\",\n    \"forward\": \"scale,offset\",\n    \"extra_dims\": \"all\"\n  }\n]"
        ],
        [
         "EPO_Y_15_P3",
         "[\n  {\n    \"type\": \"readers.copc\",\n    \"filename\": \"../data/outputs/sites/lidar/EPO_Y_15.copc.laz\",\n    \"polygon\": \"POLYGON ((456628.22282147687 5299247.025743259, 456597.44370517955 5299207.622113809, 456556.5437722614 5299239.5700285, 456587.32288855914 5299278.973657946, 456628.22282147687 5299247.025743259))\"\n  },\n  {\n    \"type\": \"filters.range\",\n    \"limits\": \"Classification[0:5]\"\n  },\n  {\n    \"type\": \"writers.copc\",\n    \"filename\": \"../data/outputs/plots/lidar/EPO_Y_15_P3.copc.laz\",\n    \"forward\": \"scale,offset\",\n    \"extra_dims\": \"all\"\n  }\n]"
        ],
        [
         "EPO_Y_15_P4",
         "[\n  {\n    \"type\": \"readers.copc\",\n    \"filename\": \"../data/outputs/sites/lidar/EPO_Y_15.copc.laz\",\n    \"polygon\": \"POLYGON ((456668.98353225325 5299211.695980346, 456636.2116521762 5299173.933513665, 456596.4473232907 5299208.442695193, 456629.2192033654 5299246.205161874, 456668.98353225325 5299211.695980346))\"\n  },\n  {\n    \"type\": \"filters.range\",\n    \"limits\": \"Classification[0:5]\"\n  },\n  {\n    \"type\": \"writers.copc\",\n    \"filename\": \"../data/outputs/plots/lidar/EPO_Y_15_P4.copc.laz\",\n    \"forward\": \"scale,offset\",\n    \"extra_dims\": \"all\"\n  }\n]"
        ],
        [
         "EPO_Y_15_P5",
         "[\n  {\n    \"type\": \"readers.copc\",\n    \"filename\": \"../data/outputs/sites/lidar/EPO_Y_15.copc.laz\",\n    \"polygon\": \"POLYGON ((456706.52363852167 5299185.256386089, 456677.62478075566 5299144.453738704, 456638.1481633337 5299172.413423312, 456667.0470210976 5299213.216070698, 456706.52363852167 5299185.256386089))\"\n  },\n  {\n    \"type\": \"filters.range\",\n    \"limits\": \"Classification[0:5]\"\n  },\n  {\n    \"type\": \"writers.copc\",\n    \"filename\": \"../data/outputs/plots/lidar/EPO_Y_15_P5.copc.laz\",\n    \"forward\": \"scale,offset\",\n    \"extra_dims\": \"all\"\n  }\n]"
        ]
       ],
       "shape": {
        "columns": 1,
        "rows": 315
       }
      },
      "text/html": [
       "<div>\n",
       "<style scoped>\n",
       "    .dataframe tbody tr th:only-of-type {\n",
       "        vertical-align: middle;\n",
       "    }\n",
       "\n",
       "    .dataframe tbody tr th {\n",
       "        vertical-align: top;\n",
       "    }\n",
       "\n",
       "    .dataframe thead th {\n",
       "        text-align: right;\n",
       "    }\n",
       "</style>\n",
       "<table border=\"1\" class=\"dataframe\">\n",
       "  <thead>\n",
       "    <tr style=\"text-align: right;\">\n",
       "      <th></th>\n",
       "      <th>pipeline</th>\n",
       "    </tr>\n",
       "    <tr>\n",
       "      <th>id</th>\n",
       "      <th></th>\n",
       "    </tr>\n",
       "  </thead>\n",
       "  <tbody>\n",
       "    <tr>\n",
       "      <th>AGG_O_01_P1</th>\n",
       "      <td>[\\n  {\\n    \"type\": \"readers.copc\",\\n    \"file...</td>\n",
       "    </tr>\n",
       "    <tr>\n",
       "      <th>AGG_O_01_P2</th>\n",
       "      <td>[\\n  {\\n    \"type\": \"readers.copc\",\\n    \"file...</td>\n",
       "    </tr>\n",
       "    <tr>\n",
       "      <th>AGG_O_01_P3</th>\n",
       "      <td>[\\n  {\\n    \"type\": \"readers.copc\",\\n    \"file...</td>\n",
       "    </tr>\n",
       "    <tr>\n",
       "      <th>AGG_O_01_P4</th>\n",
       "      <td>[\\n  {\\n    \"type\": \"readers.copc\",\\n    \"file...</td>\n",
       "    </tr>\n",
       "    <tr>\n",
       "      <th>AGG_O_01_P5</th>\n",
       "      <td>[\\n  {\\n    \"type\": \"readers.copc\",\\n    \"file...</td>\n",
       "    </tr>\n",
       "    <tr>\n",
       "      <th>...</th>\n",
       "      <td>...</td>\n",
       "    </tr>\n",
       "    <tr>\n",
       "      <th>ULY_Y_96_P1</th>\n",
       "      <td>[\\n  {\\n    \"type\": \"readers.copc\",\\n    \"file...</td>\n",
       "    </tr>\n",
       "    <tr>\n",
       "      <th>ULY_Y_96_P2</th>\n",
       "      <td>[\\n  {\\n    \"type\": \"readers.copc\",\\n    \"file...</td>\n",
       "    </tr>\n",
       "    <tr>\n",
       "      <th>ULY_Y_96_P3</th>\n",
       "      <td>[\\n  {\\n    \"type\": \"readers.copc\",\\n    \"file...</td>\n",
       "    </tr>\n",
       "    <tr>\n",
       "      <th>ULY_Y_96_P4</th>\n",
       "      <td>[\\n  {\\n    \"type\": \"readers.copc\",\\n    \"file...</td>\n",
       "    </tr>\n",
       "    <tr>\n",
       "      <th>ULY_Y_96_P5</th>\n",
       "      <td>[\\n  {\\n    \"type\": \"readers.copc\",\\n    \"file...</td>\n",
       "    </tr>\n",
       "  </tbody>\n",
       "</table>\n",
       "<p>315 rows × 1 columns</p>\n",
       "</div>"
      ],
      "text/plain": [
       "                                                      pipeline\n",
       "id                                                            \n",
       "AGG_O_01_P1  [\\n  {\\n    \"type\": \"readers.copc\",\\n    \"file...\n",
       "AGG_O_01_P2  [\\n  {\\n    \"type\": \"readers.copc\",\\n    \"file...\n",
       "AGG_O_01_P3  [\\n  {\\n    \"type\": \"readers.copc\",\\n    \"file...\n",
       "AGG_O_01_P4  [\\n  {\\n    \"type\": \"readers.copc\",\\n    \"file...\n",
       "AGG_O_01_P5  [\\n  {\\n    \"type\": \"readers.copc\",\\n    \"file...\n",
       "...                                                        ...\n",
       "ULY_Y_96_P1  [\\n  {\\n    \"type\": \"readers.copc\",\\n    \"file...\n",
       "ULY_Y_96_P2  [\\n  {\\n    \"type\": \"readers.copc\",\\n    \"file...\n",
       "ULY_Y_96_P3  [\\n  {\\n    \"type\": \"readers.copc\",\\n    \"file...\n",
       "ULY_Y_96_P4  [\\n  {\\n    \"type\": \"readers.copc\",\\n    \"file...\n",
       "ULY_Y_96_P5  [\\n  {\\n    \"type\": \"readers.copc\",\\n    \"file...\n",
       "\n",
       "[315 rows x 1 columns]"
      ]
     },
     "execution_count": 4,
     "metadata": {},
     "output_type": "execute_result"
    }
   ],
   "source": [
    "outputs_dir = Path(\"../data/outputs\")\n",
    "sites_lidar_dir = outputs_dir / \"sites\" / \"lidar\"\n",
    "plots_lidar_dir = outputs_dir / \"plots\" / \"lidar\"\n",
    "plots_lidar_dir.mkdir(parents=True, exist_ok=True)\n",
    "\n",
    "\n",
    "def create_pipeline_from_plot(plot_row):\n",
    "    site_id = plot_row[\"site\"]\n",
    "    site_plot_id = plot_row[\"site_plot_id\"]\n",
    "\n",
    "    input_path = str(sites_lidar_dir / f\"{site_id}.copc.laz\")\n",
    "    output_path = str(plots_lidar_dir / f\"{site_plot_id}.copc.laz\")\n",
    "    polygon_wkt = plot_row.geometry.wkt\n",
    "\n",
    "    return pd.Series(\n",
    "        {\n",
    "            \"pipeline\": create_plot_pipeline(\n",
    "                input_path=input_path, output_path=output_path, polygon_wkt=polygon_wkt\n",
    "            )\n",
    "        }\n",
    "    )\n",
    "\n",
    "\n",
    "pipelines = plots_gdf.apply(create_pipeline_from_plot, axis=1)\n",
    "pipelines"
   ]
  },
  {
   "cell_type": "markdown",
   "id": "00c850cb",
   "metadata": {},
   "source": [
    "## Processing"
   ]
  },
  {
   "cell_type": "code",
   "execution_count": 5,
   "id": "9958fa57",
   "metadata": {},
   "outputs": [],
   "source": [
    "def process_pdal_pipeline(pipeline: str, return_data: bool = False):\n",
    "    \"\"\"\n",
    "    Process a PDAL pipeline string.\n",
    "\n",
    "    Args:\n",
    "        pipeline (str): The PDAL pipeline JSON string.\n",
    "        return_data (bool): If True, return the PDAL Pipeline object after execution. Defaults to False. Returning pipeline data\n",
    "        will contain metadata and all the points processed by the pipeline. This can be a large object so defaults to False.\n",
    "    \"\"\"\n",
    "    pipeline_obj = pdal.Pipeline(pipeline)\n",
    "    count = pipeline_obj.execute()  # Execute the pipeline\n",
    "    return (count, pipeline_obj if return_data else None)"
   ]
  },
  {
   "cell_type": "code",
   "execution_count": 6,
   "id": "5d4fd84d",
   "metadata": {},
   "outputs": [
    {
     "name": "stdout",
     "output_type": "stream",
     "text": [
      "Processed 252716 points.\n",
      "CPU times: user 940 ms, sys: 59.5 ms, total: 1e+03 ms\n",
      "Wall time: 883 ms\n"
     ]
    },
    {
     "data": {
      "application/vnd.microsoft.datawrangler.viewer.v0+json": {
       "columns": [
        {
         "name": "index",
         "rawType": "int64",
         "type": "integer"
        },
        {
         "name": "X",
         "rawType": "float64",
         "type": "float"
        },
        {
         "name": "Y",
         "rawType": "float64",
         "type": "float"
        },
        {
         "name": "Z",
         "rawType": "float64",
         "type": "float"
        },
        {
         "name": "Intensity",
         "rawType": "uint16",
         "type": "integer"
        },
        {
         "name": "ReturnNumber",
         "rawType": "uint8",
         "type": "integer"
        },
        {
         "name": "NumberOfReturns",
         "rawType": "uint8",
         "type": "integer"
        },
        {
         "name": "ScanDirectionFlag",
         "rawType": "uint8",
         "type": "integer"
        },
        {
         "name": "EdgeOfFlightLine",
         "rawType": "uint8",
         "type": "integer"
        },
        {
         "name": "Classification",
         "rawType": "uint8",
         "type": "integer"
        },
        {
         "name": "Synthetic",
         "rawType": "uint8",
         "type": "integer"
        },
        {
         "name": "KeyPoint",
         "rawType": "uint8",
         "type": "integer"
        },
        {
         "name": "Withheld",
         "rawType": "uint8",
         "type": "integer"
        },
        {
         "name": "Overlap",
         "rawType": "uint8",
         "type": "integer"
        },
        {
         "name": "ScanAngleRank",
         "rawType": "float32",
         "type": "float"
        },
        {
         "name": "UserData",
         "rawType": "uint8",
         "type": "integer"
        },
        {
         "name": "PointSourceId",
         "rawType": "uint16",
         "type": "integer"
        },
        {
         "name": "GpsTime",
         "rawType": "float64",
         "type": "float"
        },
        {
         "name": "ScanChannel",
         "rawType": "uint8",
         "type": "integer"
        },
        {
         "name": "Red",
         "rawType": "uint16",
         "type": "integer"
        },
        {
         "name": "Green",
         "rawType": "uint16",
         "type": "integer"
        },
        {
         "name": "Blue",
         "rawType": "uint16",
         "type": "integer"
        },
        {
         "name": "Infrared",
         "rawType": "uint16",
         "type": "integer"
        },
        {
         "name": "HeightAboveGround",
         "rawType": "float64",
         "type": "float"
        },
        {
         "name": "Altitude",
         "rawType": "float64",
         "type": "float"
        }
       ],
       "ref": "595c6d7b-ef12-4462-82ff-1f512200c6b3",
       "rows": [
        [
         "0",
         "462992.467",
         "5259864.165",
         "0.0",
         "30703",
         "2",
         "2",
         "0",
         "0",
         "2",
         "0",
         "0",
         "0",
         "0",
         "-0.042",
         "4",
         "1",
         "411879471.6098011",
         "0",
         "10280",
         "12079",
         "17733",
         "18852",
         "0.0",
         "507.0141462161604"
        ],
        [
         "1",
         "462992.616",
         "5259864.525",
         "0.0",
         "29779",
         "2",
         "2",
         "0",
         "0",
         "2",
         "0",
         "0",
         "0",
         "0",
         "-0.042",
         "4",
         "1",
         "411879471.6098018",
         "0",
         "13878",
         "15677",
         "21331",
         "15782",
         "0.0",
         "506.9961449850862"
        ],
        [
         "2",
         "462991.933",
         "5259862.205",
         "0.0",
         "31499",
         "1",
         "1",
         "0",
         "0",
         "2",
         "0",
         "0",
         "0",
         "0",
         "-0.042",
         "4",
         "1",
         "411879471.6136166",
         "0",
         "10023",
         "11822",
         "18504",
         "10908",
         "0.0",
         "507.25615357586645"
        ],
        [
         "3",
         "462992.514",
         "5259863.611",
         "0.0",
         "30821",
         "2",
         "2",
         "0",
         "0",
         "2",
         "0",
         "0",
         "0",
         "0",
         "-0.042",
         "4",
         "1",
         "411879471.6136195",
         "0",
         "10794",
         "12593",
         "18247",
         "17575",
         "0.0",
         "507.0211487693788"
        ],
        [
         "4",
         "462992.42",
         "5259863.384",
         "1.624",
         "29910",
         "1",
         "2",
         "0",
         "0",
         "0",
         "0",
         "0",
         "0",
         "0",
         "-0.042",
         "12",
         "1",
         "411879471.6136195",
         "0",
         "11051",
         "12850",
         "18247",
         "14702",
         "1.6240004777110357",
         "508.7221495278965"
        ]
       ],
       "shape": {
        "columns": 24,
        "rows": 5
       }
      },
      "text/html": [
       "<div>\n",
       "<style scoped>\n",
       "    .dataframe tbody tr th:only-of-type {\n",
       "        vertical-align: middle;\n",
       "    }\n",
       "\n",
       "    .dataframe tbody tr th {\n",
       "        vertical-align: top;\n",
       "    }\n",
       "\n",
       "    .dataframe thead th {\n",
       "        text-align: right;\n",
       "    }\n",
       "</style>\n",
       "<table border=\"1\" class=\"dataframe\">\n",
       "  <thead>\n",
       "    <tr style=\"text-align: right;\">\n",
       "      <th></th>\n",
       "      <th>X</th>\n",
       "      <th>Y</th>\n",
       "      <th>Z</th>\n",
       "      <th>Intensity</th>\n",
       "      <th>ReturnNumber</th>\n",
       "      <th>NumberOfReturns</th>\n",
       "      <th>ScanDirectionFlag</th>\n",
       "      <th>EdgeOfFlightLine</th>\n",
       "      <th>Classification</th>\n",
       "      <th>Synthetic</th>\n",
       "      <th>...</th>\n",
       "      <th>UserData</th>\n",
       "      <th>PointSourceId</th>\n",
       "      <th>GpsTime</th>\n",
       "      <th>ScanChannel</th>\n",
       "      <th>Red</th>\n",
       "      <th>Green</th>\n",
       "      <th>Blue</th>\n",
       "      <th>Infrared</th>\n",
       "      <th>HeightAboveGround</th>\n",
       "      <th>Altitude</th>\n",
       "    </tr>\n",
       "  </thead>\n",
       "  <tbody>\n",
       "    <tr>\n",
       "      <th>0</th>\n",
       "      <td>462992.467</td>\n",
       "      <td>5259864.165</td>\n",
       "      <td>0.000</td>\n",
       "      <td>30703</td>\n",
       "      <td>2</td>\n",
       "      <td>2</td>\n",
       "      <td>0</td>\n",
       "      <td>0</td>\n",
       "      <td>2</td>\n",
       "      <td>0</td>\n",
       "      <td>...</td>\n",
       "      <td>4</td>\n",
       "      <td>1</td>\n",
       "      <td>4.118795e+08</td>\n",
       "      <td>0</td>\n",
       "      <td>10280</td>\n",
       "      <td>12079</td>\n",
       "      <td>17733</td>\n",
       "      <td>18852</td>\n",
       "      <td>0.000</td>\n",
       "      <td>507.014146</td>\n",
       "    </tr>\n",
       "    <tr>\n",
       "      <th>1</th>\n",
       "      <td>462992.616</td>\n",
       "      <td>5259864.525</td>\n",
       "      <td>0.000</td>\n",
       "      <td>29779</td>\n",
       "      <td>2</td>\n",
       "      <td>2</td>\n",
       "      <td>0</td>\n",
       "      <td>0</td>\n",
       "      <td>2</td>\n",
       "      <td>0</td>\n",
       "      <td>...</td>\n",
       "      <td>4</td>\n",
       "      <td>1</td>\n",
       "      <td>4.118795e+08</td>\n",
       "      <td>0</td>\n",
       "      <td>13878</td>\n",
       "      <td>15677</td>\n",
       "      <td>21331</td>\n",
       "      <td>15782</td>\n",
       "      <td>0.000</td>\n",
       "      <td>506.996145</td>\n",
       "    </tr>\n",
       "    <tr>\n",
       "      <th>2</th>\n",
       "      <td>462991.933</td>\n",
       "      <td>5259862.205</td>\n",
       "      <td>0.000</td>\n",
       "      <td>31499</td>\n",
       "      <td>1</td>\n",
       "      <td>1</td>\n",
       "      <td>0</td>\n",
       "      <td>0</td>\n",
       "      <td>2</td>\n",
       "      <td>0</td>\n",
       "      <td>...</td>\n",
       "      <td>4</td>\n",
       "      <td>1</td>\n",
       "      <td>4.118795e+08</td>\n",
       "      <td>0</td>\n",
       "      <td>10023</td>\n",
       "      <td>11822</td>\n",
       "      <td>18504</td>\n",
       "      <td>10908</td>\n",
       "      <td>0.000</td>\n",
       "      <td>507.256154</td>\n",
       "    </tr>\n",
       "    <tr>\n",
       "      <th>3</th>\n",
       "      <td>462992.514</td>\n",
       "      <td>5259863.611</td>\n",
       "      <td>0.000</td>\n",
       "      <td>30821</td>\n",
       "      <td>2</td>\n",
       "      <td>2</td>\n",
       "      <td>0</td>\n",
       "      <td>0</td>\n",
       "      <td>2</td>\n",
       "      <td>0</td>\n",
       "      <td>...</td>\n",
       "      <td>4</td>\n",
       "      <td>1</td>\n",
       "      <td>4.118795e+08</td>\n",
       "      <td>0</td>\n",
       "      <td>10794</td>\n",
       "      <td>12593</td>\n",
       "      <td>18247</td>\n",
       "      <td>17575</td>\n",
       "      <td>0.000</td>\n",
       "      <td>507.021149</td>\n",
       "    </tr>\n",
       "    <tr>\n",
       "      <th>4</th>\n",
       "      <td>462992.420</td>\n",
       "      <td>5259863.384</td>\n",
       "      <td>1.624</td>\n",
       "      <td>29910</td>\n",
       "      <td>1</td>\n",
       "      <td>2</td>\n",
       "      <td>0</td>\n",
       "      <td>0</td>\n",
       "      <td>0</td>\n",
       "      <td>0</td>\n",
       "      <td>...</td>\n",
       "      <td>12</td>\n",
       "      <td>1</td>\n",
       "      <td>4.118795e+08</td>\n",
       "      <td>0</td>\n",
       "      <td>11051</td>\n",
       "      <td>12850</td>\n",
       "      <td>18247</td>\n",
       "      <td>14702</td>\n",
       "      <td>1.624</td>\n",
       "      <td>508.722150</td>\n",
       "    </tr>\n",
       "  </tbody>\n",
       "</table>\n",
       "<p>5 rows × 24 columns</p>\n",
       "</div>"
      ],
      "text/plain": [
       "            X            Y      Z  Intensity  ReturnNumber  NumberOfReturns  \\\n",
       "0  462992.467  5259864.165  0.000      30703             2                2   \n",
       "1  462992.616  5259864.525  0.000      29779             2                2   \n",
       "2  462991.933  5259862.205  0.000      31499             1                1   \n",
       "3  462992.514  5259863.611  0.000      30821             2                2   \n",
       "4  462992.420  5259863.384  1.624      29910             1                2   \n",
       "\n",
       "   ScanDirectionFlag  EdgeOfFlightLine  Classification  Synthetic  ...  \\\n",
       "0                  0                 0               2          0  ...   \n",
       "1                  0                 0               2          0  ...   \n",
       "2                  0                 0               2          0  ...   \n",
       "3                  0                 0               2          0  ...   \n",
       "4                  0                 0               0          0  ...   \n",
       "\n",
       "   UserData  PointSourceId       GpsTime  ScanChannel    Red  Green   Blue  \\\n",
       "0         4              1  4.118795e+08            0  10280  12079  17733   \n",
       "1         4              1  4.118795e+08            0  13878  15677  21331   \n",
       "2         4              1  4.118795e+08            0  10023  11822  18504   \n",
       "3         4              1  4.118795e+08            0  10794  12593  18247   \n",
       "4        12              1  4.118795e+08            0  11051  12850  18247   \n",
       "\n",
       "   Infrared  HeightAboveGround    Altitude  \n",
       "0     18852              0.000  507.014146  \n",
       "1     15782              0.000  506.996145  \n",
       "2     10908              0.000  507.256154  \n",
       "3     17575              0.000  507.021149  \n",
       "4     14702              1.624  508.722150  \n",
       "\n",
       "[5 rows x 24 columns]"
      ]
     },
     "execution_count": 6,
     "metadata": {},
     "output_type": "execute_result"
    }
   ],
   "source": [
    "%%time\n",
    "\n",
    "test_pipeline = pipelines.loc['AGG_O_01_P1']\n",
    "\n",
    "(count, pl) = process_pdal_pipeline(test_pipeline.pipeline, return_data=True)\n",
    "print(f\"Processed {count} points.\")\n",
    "\n",
    "points = pl.arrays[0]\n",
    "points_df = pd.DataFrame(pl.arrays[0])\n",
    "points_df.head()"
   ]
  },
  {
   "cell_type": "code",
   "execution_count": 7,
   "id": "d0ee96c6",
   "metadata": {},
   "outputs": [
    {
     "data": {
      "text/html": [
       "<div>\n",
       "    <div style=\"width: 24px; height: 24px; background-color: #e1e1e1; border: 3px solid #9D9D9D; border-radius: 5px; position: absolute;\"> </div>\n",
       "    <div style=\"margin-left: 48px;\">\n",
       "        <h3 style=\"margin-bottom: 0px;\">Client</h3>\n",
       "        <p style=\"color: #9D9D9D; margin-bottom: 0px;\">Client-75f6d79e-9842-11f0-8982-ca0be7e0e449</p>\n",
       "        <table style=\"width: 100%; text-align: left;\">\n",
       "\n",
       "        <tr>\n",
       "        \n",
       "            <td style=\"text-align: left;\"><strong>Connection method:</strong> Cluster object</td>\n",
       "            <td style=\"text-align: left;\"><strong>Cluster type:</strong> distributed.LocalCluster</td>\n",
       "        \n",
       "        </tr>\n",
       "\n",
       "        \n",
       "            <tr>\n",
       "                <td style=\"text-align: left;\">\n",
       "                    <strong>Dashboard: </strong> <a href=\"http://127.0.0.1:8787/status\" target=\"_blank\">http://127.0.0.1:8787/status</a>\n",
       "                </td>\n",
       "                <td style=\"text-align: left;\"></td>\n",
       "            </tr>\n",
       "        \n",
       "\n",
       "        </table>\n",
       "\n",
       "        \n",
       "\n",
       "        \n",
       "            <details>\n",
       "            <summary style=\"margin-bottom: 20px;\"><h3 style=\"display: inline;\">Cluster Info</h3></summary>\n",
       "            <div class=\"jp-RenderedHTMLCommon jp-RenderedHTML jp-mod-trusted jp-OutputArea-output\">\n",
       "    <div style=\"width: 24px; height: 24px; background-color: #e1e1e1; border: 3px solid #9D9D9D; border-radius: 5px; position: absolute;\">\n",
       "    </div>\n",
       "    <div style=\"margin-left: 48px;\">\n",
       "        <h3 style=\"margin-bottom: 0px; margin-top: 0px;\">LocalCluster</h3>\n",
       "        <p style=\"color: #9D9D9D; margin-bottom: 0px;\">1223cea1</p>\n",
       "        <table style=\"width: 100%; text-align: left;\">\n",
       "            <tr>\n",
       "                <td style=\"text-align: left;\">\n",
       "                    <strong>Dashboard:</strong> <a href=\"http://127.0.0.1:8787/status\" target=\"_blank\">http://127.0.0.1:8787/status</a>\n",
       "                </td>\n",
       "                <td style=\"text-align: left;\">\n",
       "                    <strong>Workers:</strong> 4\n",
       "                </td>\n",
       "            </tr>\n",
       "            <tr>\n",
       "                <td style=\"text-align: left;\">\n",
       "                    <strong>Total threads:</strong> 8\n",
       "                </td>\n",
       "                <td style=\"text-align: left;\">\n",
       "                    <strong>Total memory:</strong> 16.00 GiB\n",
       "                </td>\n",
       "            </tr>\n",
       "            \n",
       "            <tr>\n",
       "    <td style=\"text-align: left;\"><strong>Status:</strong> running</td>\n",
       "    <td style=\"text-align: left;\"><strong>Using processes:</strong> True</td>\n",
       "</tr>\n",
       "\n",
       "            \n",
       "        </table>\n",
       "\n",
       "        <details>\n",
       "            <summary style=\"margin-bottom: 20px;\">\n",
       "                <h3 style=\"display: inline;\">Scheduler Info</h3>\n",
       "            </summary>\n",
       "\n",
       "            <div style=\"\">\n",
       "    <div>\n",
       "        <div style=\"width: 24px; height: 24px; background-color: #FFF7E5; border: 3px solid #FF6132; border-radius: 5px; position: absolute;\"> </div>\n",
       "        <div style=\"margin-left: 48px;\">\n",
       "            <h3 style=\"margin-bottom: 0px;\">Scheduler</h3>\n",
       "            <p style=\"color: #9D9D9D; margin-bottom: 0px;\">Scheduler-c66c1533-7ee2-4639-a86e-766ff69984b4</p>\n",
       "            <table style=\"width: 100%; text-align: left;\">\n",
       "                <tr>\n",
       "                    <td style=\"text-align: left;\">\n",
       "                        <strong>Comm:</strong> tcp://127.0.0.1:61175\n",
       "                    </td>\n",
       "                    <td style=\"text-align: left;\">\n",
       "                        <strong>Workers:</strong> 0 \n",
       "                    </td>\n",
       "                </tr>\n",
       "                <tr>\n",
       "                    <td style=\"text-align: left;\">\n",
       "                        <strong>Dashboard:</strong> <a href=\"http://127.0.0.1:8787/status\" target=\"_blank\">http://127.0.0.1:8787/status</a>\n",
       "                    </td>\n",
       "                    <td style=\"text-align: left;\">\n",
       "                        <strong>Total threads:</strong> 0\n",
       "                    </td>\n",
       "                </tr>\n",
       "                <tr>\n",
       "                    <td style=\"text-align: left;\">\n",
       "                        <strong>Started:</strong> Just now\n",
       "                    </td>\n",
       "                    <td style=\"text-align: left;\">\n",
       "                        <strong>Total memory:</strong> 0 B\n",
       "                    </td>\n",
       "                </tr>\n",
       "            </table>\n",
       "        </div>\n",
       "    </div>\n",
       "\n",
       "    <details style=\"margin-left: 48px;\">\n",
       "        <summary style=\"margin-bottom: 20px;\">\n",
       "            <h3 style=\"display: inline;\">Workers</h3>\n",
       "        </summary>\n",
       "\n",
       "        \n",
       "        <div style=\"margin-bottom: 20px;\">\n",
       "            <div style=\"width: 24px; height: 24px; background-color: #DBF5FF; border: 3px solid #4CC9FF; border-radius: 5px; position: absolute;\"> </div>\n",
       "            <div style=\"margin-left: 48px;\">\n",
       "            <details>\n",
       "                <summary>\n",
       "                    <h4 style=\"margin-bottom: 0px; display: inline;\">Worker: 0</h4>\n",
       "                </summary>\n",
       "                <table style=\"width: 100%; text-align: left;\">\n",
       "                    <tr>\n",
       "                        <td style=\"text-align: left;\">\n",
       "                            <strong>Comm: </strong> tcp://127.0.0.1:61187\n",
       "                        </td>\n",
       "                        <td style=\"text-align: left;\">\n",
       "                            <strong>Total threads: </strong> 2\n",
       "                        </td>\n",
       "                    </tr>\n",
       "                    <tr>\n",
       "                        <td style=\"text-align: left;\">\n",
       "                            <strong>Dashboard: </strong> <a href=\"http://127.0.0.1:61189/status\" target=\"_blank\">http://127.0.0.1:61189/status</a>\n",
       "                        </td>\n",
       "                        <td style=\"text-align: left;\">\n",
       "                            <strong>Memory: </strong> 4.00 GiB\n",
       "                        </td>\n",
       "                    </tr>\n",
       "                    <tr>\n",
       "                        <td style=\"text-align: left;\">\n",
       "                            <strong>Nanny: </strong> tcp://127.0.0.1:61178\n",
       "                        </td>\n",
       "                        <td style=\"text-align: left;\"></td>\n",
       "                    </tr>\n",
       "                    <tr>\n",
       "                        <td colspan=\"2\" style=\"text-align: left;\">\n",
       "                            <strong>Local directory: </strong> /var/folders/37/j4yld2bd7pz4_0p7b249nvv40000gn/T/dask-scratch-space/worker-q_8lkqzc\n",
       "                        </td>\n",
       "                    </tr>\n",
       "\n",
       "                    \n",
       "\n",
       "                    \n",
       "\n",
       "                </table>\n",
       "            </details>\n",
       "            </div>\n",
       "        </div>\n",
       "        \n",
       "        <div style=\"margin-bottom: 20px;\">\n",
       "            <div style=\"width: 24px; height: 24px; background-color: #DBF5FF; border: 3px solid #4CC9FF; border-radius: 5px; position: absolute;\"> </div>\n",
       "            <div style=\"margin-left: 48px;\">\n",
       "            <details>\n",
       "                <summary>\n",
       "                    <h4 style=\"margin-bottom: 0px; display: inline;\">Worker: 1</h4>\n",
       "                </summary>\n",
       "                <table style=\"width: 100%; text-align: left;\">\n",
       "                    <tr>\n",
       "                        <td style=\"text-align: left;\">\n",
       "                            <strong>Comm: </strong> tcp://127.0.0.1:61188\n",
       "                        </td>\n",
       "                        <td style=\"text-align: left;\">\n",
       "                            <strong>Total threads: </strong> 2\n",
       "                        </td>\n",
       "                    </tr>\n",
       "                    <tr>\n",
       "                        <td style=\"text-align: left;\">\n",
       "                            <strong>Dashboard: </strong> <a href=\"http://127.0.0.1:61190/status\" target=\"_blank\">http://127.0.0.1:61190/status</a>\n",
       "                        </td>\n",
       "                        <td style=\"text-align: left;\">\n",
       "                            <strong>Memory: </strong> 4.00 GiB\n",
       "                        </td>\n",
       "                    </tr>\n",
       "                    <tr>\n",
       "                        <td style=\"text-align: left;\">\n",
       "                            <strong>Nanny: </strong> tcp://127.0.0.1:61180\n",
       "                        </td>\n",
       "                        <td style=\"text-align: left;\"></td>\n",
       "                    </tr>\n",
       "                    <tr>\n",
       "                        <td colspan=\"2\" style=\"text-align: left;\">\n",
       "                            <strong>Local directory: </strong> /var/folders/37/j4yld2bd7pz4_0p7b249nvv40000gn/T/dask-scratch-space/worker-giwhptt8\n",
       "                        </td>\n",
       "                    </tr>\n",
       "\n",
       "                    \n",
       "\n",
       "                    \n",
       "\n",
       "                </table>\n",
       "            </details>\n",
       "            </div>\n",
       "        </div>\n",
       "        \n",
       "        <div style=\"margin-bottom: 20px;\">\n",
       "            <div style=\"width: 24px; height: 24px; background-color: #DBF5FF; border: 3px solid #4CC9FF; border-radius: 5px; position: absolute;\"> </div>\n",
       "            <div style=\"margin-left: 48px;\">\n",
       "            <details>\n",
       "                <summary>\n",
       "                    <h4 style=\"margin-bottom: 0px; display: inline;\">Worker: 2</h4>\n",
       "                </summary>\n",
       "                <table style=\"width: 100%; text-align: left;\">\n",
       "                    <tr>\n",
       "                        <td style=\"text-align: left;\">\n",
       "                            <strong>Comm: </strong> tcp://127.0.0.1:61193\n",
       "                        </td>\n",
       "                        <td style=\"text-align: left;\">\n",
       "                            <strong>Total threads: </strong> 2\n",
       "                        </td>\n",
       "                    </tr>\n",
       "                    <tr>\n",
       "                        <td style=\"text-align: left;\">\n",
       "                            <strong>Dashboard: </strong> <a href=\"http://127.0.0.1:61195/status\" target=\"_blank\">http://127.0.0.1:61195/status</a>\n",
       "                        </td>\n",
       "                        <td style=\"text-align: left;\">\n",
       "                            <strong>Memory: </strong> 4.00 GiB\n",
       "                        </td>\n",
       "                    </tr>\n",
       "                    <tr>\n",
       "                        <td style=\"text-align: left;\">\n",
       "                            <strong>Nanny: </strong> tcp://127.0.0.1:61182\n",
       "                        </td>\n",
       "                        <td style=\"text-align: left;\"></td>\n",
       "                    </tr>\n",
       "                    <tr>\n",
       "                        <td colspan=\"2\" style=\"text-align: left;\">\n",
       "                            <strong>Local directory: </strong> /var/folders/37/j4yld2bd7pz4_0p7b249nvv40000gn/T/dask-scratch-space/worker-jmguag7t\n",
       "                        </td>\n",
       "                    </tr>\n",
       "\n",
       "                    \n",
       "\n",
       "                    \n",
       "\n",
       "                </table>\n",
       "            </details>\n",
       "            </div>\n",
       "        </div>\n",
       "        \n",
       "        <div style=\"margin-bottom: 20px;\">\n",
       "            <div style=\"width: 24px; height: 24px; background-color: #DBF5FF; border: 3px solid #4CC9FF; border-radius: 5px; position: absolute;\"> </div>\n",
       "            <div style=\"margin-left: 48px;\">\n",
       "            <details>\n",
       "                <summary>\n",
       "                    <h4 style=\"margin-bottom: 0px; display: inline;\">Worker: 3</h4>\n",
       "                </summary>\n",
       "                <table style=\"width: 100%; text-align: left;\">\n",
       "                    <tr>\n",
       "                        <td style=\"text-align: left;\">\n",
       "                            <strong>Comm: </strong> tcp://127.0.0.1:61194\n",
       "                        </td>\n",
       "                        <td style=\"text-align: left;\">\n",
       "                            <strong>Total threads: </strong> 2\n",
       "                        </td>\n",
       "                    </tr>\n",
       "                    <tr>\n",
       "                        <td style=\"text-align: left;\">\n",
       "                            <strong>Dashboard: </strong> <a href=\"http://127.0.0.1:61197/status\" target=\"_blank\">http://127.0.0.1:61197/status</a>\n",
       "                        </td>\n",
       "                        <td style=\"text-align: left;\">\n",
       "                            <strong>Memory: </strong> 4.00 GiB\n",
       "                        </td>\n",
       "                    </tr>\n",
       "                    <tr>\n",
       "                        <td style=\"text-align: left;\">\n",
       "                            <strong>Nanny: </strong> tcp://127.0.0.1:61184\n",
       "                        </td>\n",
       "                        <td style=\"text-align: left;\"></td>\n",
       "                    </tr>\n",
       "                    <tr>\n",
       "                        <td colspan=\"2\" style=\"text-align: left;\">\n",
       "                            <strong>Local directory: </strong> /var/folders/37/j4yld2bd7pz4_0p7b249nvv40000gn/T/dask-scratch-space/worker-78nxmimf\n",
       "                        </td>\n",
       "                    </tr>\n",
       "\n",
       "                    \n",
       "\n",
       "                    \n",
       "\n",
       "                </table>\n",
       "            </details>\n",
       "            </div>\n",
       "        </div>\n",
       "        \n",
       "\n",
       "    </details>\n",
       "</div>\n",
       "\n",
       "        </details>\n",
       "    </div>\n",
       "</div>\n",
       "            </details>\n",
       "        \n",
       "\n",
       "    </div>\n",
       "</div>"
      ],
      "text/plain": [
       "<Client: 'tcp://127.0.0.1:61175' processes=4 threads=8, memory=16.00 GiB>"
      ]
     },
     "execution_count": 7,
     "metadata": {},
     "output_type": "execute_result"
    }
   ],
   "source": [
    "from dask.distributed import Client\n",
    "\n",
    "client = Client()  # Start a Dask client\n",
    "client"
   ]
  },
  {
   "cell_type": "code",
   "execution_count": 8,
   "id": "143a3d80",
   "metadata": {},
   "outputs": [
    {
     "name": "stdout",
     "output_type": "stream",
     "text": [
      "CPU times: user 2.15 s, sys: 522 ms, total: 2.67 s\n",
      "Wall time: 51.3 s\n"
     ]
    }
   ],
   "source": [
    "%%time\n",
    "\n",
    "futures = client.map(process_pdal_pipeline, pipelines['pipeline'].to_list(), key=pipelines.index.to_list())\n",
    "results = client.gather(futures)"
   ]
  },
  {
   "cell_type": "code",
   "execution_count": 9,
   "id": "05d46701",
   "metadata": {},
   "outputs": [],
   "source": [
    "client.close()"
   ]
  },
  {
   "cell_type": "code",
   "execution_count": 10,
   "id": "af49f495",
   "metadata": {},
   "outputs": [
    {
     "data": {
      "text/plain": [
       "'Total points: 52,940,785'"
      ]
     },
     "execution_count": 10,
     "metadata": {},
     "output_type": "execute_result"
    }
   ],
   "source": [
    "total_points = 0\n",
    "\n",
    "for r in results:\n",
    "    total_points += r[0]\n",
    "\n",
    "f\"Total points: {total_points:,}\""
   ]
  }
 ],
 "metadata": {
  "kernelspec": {
   "display_name": "default",
   "language": "python",
   "name": "python3"
  },
  "language_info": {
   "codemirror_mode": {
    "name": "ipython",
    "version": 3
   },
   "file_extension": ".py",
   "mimetype": "text/x-python",
   "name": "python",
   "nbconvert_exporter": "python",
   "pygments_lexer": "ipython3",
   "version": "3.13.5"
  }
 },
 "nbformat": 4,
 "nbformat_minor": 5
}
