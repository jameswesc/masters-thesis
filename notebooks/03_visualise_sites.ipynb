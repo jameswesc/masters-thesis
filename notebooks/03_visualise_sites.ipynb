{
 "cells": [
  {
   "cell_type": "markdown",
   "id": "04622957",
   "metadata": {},
   "source": [
    "# Visualise Sites"
   ]
  },
  {
   "cell_type": "code",
   "execution_count": 1,
   "id": "984bbe49",
   "metadata": {},
   "outputs": [],
   "source": [
    "import pdal\n",
    "import pandas as pd\n",
    "import numpy as np\n",
    "import geopandas as gpd\n",
    "\n",
    "import pyvista as pv\n",
    "pv.set_jupyter_backend('client')\n",
    "\n",
    "from pathlib import Path\n",
    "import ipywidgets as widgets\n",
    "from IPython.display import display"
   ]
  },
  {
   "cell_type": "code",
   "execution_count": 2,
   "id": "1aed7f52",
   "metadata": {},
   "outputs": [],
   "source": [
    "site_lidar_dir = Path('../data/outputs/sites/lidar')\n",
    "sites_gdf = gpd.read_file('../data/outputs/sites/sites.geojson')\n",
    "sites = sites_gdf['site'].to_list()"
   ]
  },
  {
   "cell_type": "code",
   "execution_count": 3,
   "id": "e805a4ca",
   "metadata": {},
   "outputs": [],
   "source": [
    "def read_point_cloud(file_path):\n",
    "    pipeline = pdal.Reader(file_path) | pdal.Filter('filters.range', limits='Classification[0:5]')\n",
    "    pipeline.execute()\n",
    "    return pd.DataFrame(pipeline.arrays[0])\n",
    "\n",
    "def plot_point_cloud(df, color='rgb'):\n",
    "    X = df[\"X\"] - df[\"X\"].min()\n",
    "    Y = df[\"Y\"] - df[\"Y\"].min()\n",
    "    Z = df[\"HeightAboveGround\"].clip(lower=0)\n",
    "    positions = np.column_stack((X, Y, Z)).astype(\"float32\")\n",
    "\n",
    "    R = (df[\"Red\"] / 65535 * 255).astype(\"uint8\")\n",
    "    G = (df[\"Green\"] / 65535 * 255).astype(\"uint8\")\n",
    "    B = (df[\"Blue\"] / 65535 * 255).astype(\"uint8\")\n",
    "    colors = np.column_stack((R, G, B))\n",
    "\n",
    "    mesh = pv.PolyData(positions)\n",
    "    mesh['height'] = Z\n",
    "    mesh['rgb'] = colors\n",
    "    mesh.plot(point_size=2, scalars=color, rgb=(color == 'rgb'), cpos='xz', show_axes=True, notebook=True)\n",
    "\n",
    "def read_and_plot_site(site: str, color = 'rgb'):\n",
    "    file_path = str(site_lidar_dir / f\"{site}.copc.laz\")\n",
    "    lidar_df = read_point_cloud(file_path)\n",
    "    plot_point_cloud(lidar_df, color=color)"
   ]
  },
  {
   "cell_type": "code",
   "execution_count": 4,
   "id": "52bb1a48",
   "metadata": {},
   "outputs": [
    {
     "data": {
      "application/vnd.jupyter.widget-view+json": {
       "model_id": "3797c0a6a6254ac4805060051d743672",
       "version_major": 2,
       "version_minor": 0
      },
      "text/plain": [
       "interactive(children=(Dropdown(description='Site:', options=('AGG_O_01', 'AGG_O_05', 'AGG_O_07', 'AGG_Y_02', '…"
      ]
     },
     "metadata": {},
     "output_type": "display_data"
    },
    {
     "name": "stderr",
     "output_type": "stream",
     "text": [
      "Exception raised\n",
      "ClientConnectionResetError('Cannot write to closing transport')\n",
      "Traceback (most recent call last):\n",
      "  File \"/Users/jgregory/Code/forest-structure-tools/.pixi/envs/default/lib/python3.13/site-packages/wslink/protocol.py\", line 334, in onCompleteMessage\n",
      "    await self.sendWrappedMessage(\n",
      "        rpcid, results, method=methodName, client_id=client_id\n",
      "    )\n",
      "  File \"/Users/jgregory/Code/forest-structure-tools/.pixi/envs/default/lib/python3.13/site-packages/wslink/protocol.py\", line 439, in sendWrappedMessage\n",
      "    await ws.send_bytes(chunk)\n",
      "  File \"/Users/jgregory/Code/forest-structure-tools/.pixi/envs/default/lib/python3.13/site-packages/aiohttp/web_ws.py\", line 426, in send_bytes\n",
      "    await self._writer.send_frame(data, WSMsgType.BINARY, compress=compress)\n",
      "  File \"/Users/jgregory/Code/forest-structure-tools/.pixi/envs/default/lib/python3.13/site-packages/aiohttp/_websocket/writer.py\", line 126, in send_frame\n",
      "    raise ClientConnectionResetError(\"Cannot write to closing transport\")\n",
      "aiohttp.client_exceptions.ClientConnectionResetError: Cannot write to closing transport\n",
      "\n",
      "Error handling request from 127.0.0.1\n",
      "Traceback (most recent call last):\n",
      "  File \"/Users/jgregory/Code/forest-structure-tools/.pixi/envs/default/lib/python3.13/site-packages/wslink/protocol.py\", line 334, in onCompleteMessage\n",
      "    await self.sendWrappedMessage(\n",
      "        rpcid, results, method=methodName, client_id=client_id\n",
      "    )\n",
      "  File \"/Users/jgregory/Code/forest-structure-tools/.pixi/envs/default/lib/python3.13/site-packages/wslink/protocol.py\", line 439, in sendWrappedMessage\n",
      "    await ws.send_bytes(chunk)\n",
      "  File \"/Users/jgregory/Code/forest-structure-tools/.pixi/envs/default/lib/python3.13/site-packages/aiohttp/web_ws.py\", line 426, in send_bytes\n",
      "    await self._writer.send_frame(data, WSMsgType.BINARY, compress=compress)\n",
      "  File \"/Users/jgregory/Code/forest-structure-tools/.pixi/envs/default/lib/python3.13/site-packages/aiohttp/_websocket/writer.py\", line 126, in send_frame\n",
      "    raise ClientConnectionResetError(\"Cannot write to closing transport\")\n",
      "aiohttp.client_exceptions.ClientConnectionResetError: Cannot write to closing transport\n",
      "\n",
      "During handling of the above exception, another exception occurred:\n",
      "\n",
      "Traceback (most recent call last):\n",
      "  File \"/Users/jgregory/Code/forest-structure-tools/.pixi/envs/default/lib/python3.13/site-packages/aiohttp/web_protocol.py\", line 510, in _handle_request\n",
      "    resp = await request_handler(request)\n",
      "           ^^^^^^^^^^^^^^^^^^^^^^^^^^^^^^\n",
      "  File \"/Users/jgregory/Code/forest-structure-tools/.pixi/envs/default/lib/python3.13/site-packages/aiohttp/web_app.py\", line 569, in _handle\n",
      "    return await handler(request)\n",
      "           ^^^^^^^^^^^^^^^^^^^^^^\n",
      "  File \"/Users/jgregory/Code/forest-structure-tools/.pixi/envs/default/lib/python3.13/site-packages/wslink/backends/aiohttp/__init__.py\", line 251, in handleWsRequest\n",
      "    await self.onMessage(is_binary(msg), msg, client_id)\n",
      "  File \"/Users/jgregory/Code/forest-structure-tools/.pixi/envs/default/lib/python3.13/site-packages/wslink/protocol.py\", line 266, in onMessage\n",
      "    await self.onCompleteMessage(full_message, client_id)\n",
      "  File \"/Users/jgregory/Code/forest-structure-tools/.pixi/envs/default/lib/python3.13/site-packages/wslink/protocol.py\", line 344, in onCompleteMessage\n",
      "    await self.sendWrappedError(\n",
      "    ...<9 lines>...\n",
      "    )\n",
      "  File \"/Users/jgregory/Code/forest-structure-tools/.pixi/envs/default/lib/python3.13/site-packages/wslink/protocol.py\", line 475, in sendWrappedError\n",
      "    await ws.send_bytes(chunk)\n",
      "  File \"/Users/jgregory/Code/forest-structure-tools/.pixi/envs/default/lib/python3.13/site-packages/aiohttp/web_ws.py\", line 426, in send_bytes\n",
      "    await self._writer.send_frame(data, WSMsgType.BINARY, compress=compress)\n",
      "  File \"/Users/jgregory/Code/forest-structure-tools/.pixi/envs/default/lib/python3.13/site-packages/aiohttp/_websocket/writer.py\", line 126, in send_frame\n",
      "    raise ClientConnectionResetError(\"Cannot write to closing transport\")\n",
      "aiohttp.client_exceptions.ClientConnectionResetError: Cannot write to closing transport\n"
     ]
    }
   ],
   "source": [
    "# Create interactive widgets for site selection\n",
    "site_dropdown = widgets.Dropdown(\n",
    "    options=sites,\n",
    "    value=sites[0] if sites else None,\n",
    "    description='Site:',\n",
    "    disabled=False,\n",
    ")\n",
    "\n",
    "color_dropdown = widgets.Dropdown(\n",
    "    options=['rgb', 'height'],\n",
    "    value='rgb',\n",
    "    description='Color by:',\n",
    "    disabled=False,\n",
    ")\n",
    "\n",
    "# Function to handle the plot update\n",
    "def update_plot(site, color):\n",
    "    read_and_plot_site(site, color=color)\n",
    "\n",
    "# Create interactive plot\n",
    "interactive_plot = widgets.interactive(update_plot, site=site_dropdown, color=color_dropdown)\n",
    "display(interactive_plot)"
   ]
  }
 ],
 "metadata": {
  "kernelspec": {
   "display_name": "default",
   "language": "python",
   "name": "python3"
  },
  "language_info": {
   "codemirror_mode": {
    "name": "ipython",
    "version": 3
   },
   "file_extension": ".py",
   "mimetype": "text/x-python",
   "name": "python",
   "nbconvert_exporter": "python",
   "pygments_lexer": "ipython3",
   "version": "3.13.5"
  }
 },
 "nbformat": 4,
 "nbformat_minor": 5
}
