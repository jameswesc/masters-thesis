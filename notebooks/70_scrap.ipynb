{
 "cells": [
  {
   "cell_type": "code",
   "execution_count": null,
   "id": "bd446616",
   "metadata": {},
   "outputs": [
    {
     "ename": "NameError",
     "evalue": "name 'im' is not defined",
     "output_type": "error",
     "traceback": [
      "\u001b[31m---------------------------------------------------------------------------\u001b[39m",
      "\u001b[31mNameError\u001b[39m                                 Traceback (most recent call last)",
      "\u001b[36mCell\u001b[39m\u001b[36m \u001b[39m\u001b[32mIn[1]\u001b[39m\u001b[32m, line 3\u001b[39m\n\u001b[32m      1\u001b[39m \u001b[38;5;28;01mimport\u001b[39;00m\u001b[38;5;250m \u001b[39m\u001b[34;01mnumpy\u001b[39;00m\u001b[38;5;250m \u001b[39m\u001b[38;5;28;01mas\u001b[39;00m\u001b[38;5;250m \u001b[39m\u001b[34;01mnp\u001b[39;00m\n\u001b[32m      2\u001b[39m \u001b[38;5;28;01mfrom\u001b[39;00m\u001b[38;5;250m \u001b[39m\u001b[34;01mscipy\u001b[39;00m\u001b[34;01m.\u001b[39;00m\u001b[34;01mstats\u001b[39;00m\u001b[38;5;250m \u001b[39m\u001b[38;5;28;01mimport\u001b[39;00m entropy\n\u001b[32m----> \u001b[39m\u001b[32m3\u001b[39m \u001b[43mim\u001b[49m\n",
      "\u001b[31mNameError\u001b[39m: name 'im' is not defined"
     ]
    }
   ],
   "source": [
    "import numpy as np\n",
    "from scipy.stats import entropy\n",
    "import pandas as pd"
   ]
  },
  {
   "cell_type": "code",
   "execution_count": 28,
   "id": "63c52822",
   "metadata": {},
   "outputs": [
    {
     "data": {
      "text/plain": [
       "array([nan, nan, nan,  1.,  2.,  3.,  4.,  1.,  0.,  0.,  0.,  0.])"
      ]
     },
     "execution_count": 28,
     "metadata": {},
     "output_type": "execute_result"
    }
   ],
   "source": [
    "inside = np.array([np.nan, np.nan, np.nan, 1, 2, 3, 4, 1, 0, 0, 0, 0])\n",
    "# inside = inside / inside.sum()\n",
    "inside"
   ]
  },
  {
   "cell_type": "code",
   "execution_count": 30,
   "id": "b8290909",
   "metadata": {},
   "outputs": [
    {
     "data": {
      "text/plain": [
       "np.float64(1.4681399390162087)"
      ]
     },
     "execution_count": 30,
     "metadata": {},
     "output_type": "execute_result"
    }
   ],
   "source": [
    "(entropy(inside, nan_policy='omit'))"
   ]
  },
  {
   "cell_type": "code",
   "execution_count": 23,
   "id": "c8c9e3c8",
   "metadata": {},
   "outputs": [
    {
     "name": "stdout",
     "output_type": "stream",
     "text": [
      "[0.11494253 0.03448276 0.51724138 0.17241379 0.06896552 0.09195402]\n",
      "[0.11494253 0.03448276 0.51724138 0.17241379 0.06896552 0.09195402]\n"
     ]
    }
   ],
   "source": [
    "inside = np.array([10, 3, 45, 15, 6, 8])\n",
    "volume = 8\n",
    "\n",
    "density = inside / volume\n",
    "\n",
    "rel_inside = inside / inside.sum()\n",
    "rel_density = density / density.sum()\n",
    "\n",
    "print(rel_inside)\n",
    "print(rel_density)"
   ]
  },
  {
   "cell_type": "code",
   "execution_count": 27,
   "id": "ee418a2f",
   "metadata": {},
   "outputs": [
    {
     "data": {
      "text/plain": [
       "array([ 0.,  1.,  2.,  3.,  4.,  5.,  6.,  7.,  8.,  9., 10., 11.])"
      ]
     },
     "execution_count": 27,
     "metadata": {},
     "output_type": "execute_result"
    }
   ],
   "source": [
    "z_max = 10.5\n",
    "z_bin_size = 1\n",
    "\n",
    "bins = np.arange(0, z_max + z_bin_size, z_bin_size)\n",
    "bins"
   ]
  }
 ],
 "metadata": {
  "kernelspec": {
   "display_name": "default",
   "language": "python",
   "name": "python3"
  },
  "language_info": {
   "codemirror_mode": {
    "name": "ipython",
    "version": 3
   },
   "file_extension": ".py",
   "mimetype": "text/x-python",
   "name": "python",
   "nbconvert_exporter": "python",
   "pygments_lexer": "ipython3",
   "version": "3.13.5"
  }
 },
 "nbformat": 4,
 "nbformat_minor": 5
}
