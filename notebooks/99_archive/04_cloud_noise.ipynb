{
 "cells": [
  {
   "cell_type": "markdown",
   "id": "fee66793",
   "metadata": {},
   "source": [
    "# Cloud Noise Removal\n",
    "\n",
    "A couple of sites have some \"sky bananas\" or cloud noise. As there's only two I will manually remove them.\n",
    "\n",
    "The two sites are:\n",
    "- ULM_325\n",
    "- ULM_147"
   ]
  },
  {
   "cell_type": "code",
   "execution_count": 1,
   "id": "3bd4331a",
   "metadata": {},
   "outputs": [],
   "source": [
    "import pdal\n",
    "import numpy as np\n",
    "import pandas as pd\n",
    "  \n",
    "import pyvista as pv\n",
    "pv.set_jupyter_backend(\"client\")\n",
    "\n",
    "from pathlib import Path"
   ]
  },
  {
   "cell_type": "markdown",
   "id": "fad35493",
   "metadata": {},
   "source": [
    "# Creating Backups"
   ]
  },
  {
   "cell_type": "code",
   "execution_count": 2,
   "id": "2889e828",
   "metadata": {},
   "outputs": [],
   "source": [
    "site_lidar_dir = Path(\"../data/outputs/sites/lidar\")\n",
    "backup_dir = site_lidar_dir.parent / \"lidar-with-cloud-noise\"\n",
    "\n",
    "backup_dir.mkdir(parents=True, exist_ok=True)"
   ]
  },
  {
   "cell_type": "code",
   "execution_count": 3,
   "id": "796a0bad",
   "metadata": {},
   "outputs": [],
   "source": [
    "import shutil\n",
    "\n",
    "def create_backup(site):\n",
    "    original_file = site_lidar_dir / f\"{site}.copc.laz\"    \n",
    "    backup_file = backup_dir / f\"{site}.copc.laz\"\n",
    "\n",
    "    shutil.copy2(original_file, backup_file)\n",
    "\n",
    "create_backup(\"ULM_325\")\n",
    "create_backup(\"ULM_147\")"
   ]
  },
  {
   "cell_type": "code",
   "execution_count": 4,
   "id": "22385497",
   "metadata": {},
   "outputs": [],
   "source": [
    "def center_and_size_to_box(center, size):\n",
    "    (cx, cy, cz) = center\n",
    "    (sx, sy, sz) = size\n",
    "    return (cx - 0.5 * sx, cx + 0.5 * sx,\n",
    "            cy - 0.5 * sy, cy + 0.5 * sy,\n",
    "            cz - 0.5 * sz, cz + 0.5 * sz)"
   ]
  },
  {
   "cell_type": "markdown",
   "id": "6e5caa91",
   "metadata": {},
   "source": [
    "## ULM 325"
   ]
  },
  {
   "cell_type": "code",
   "execution_count": 5,
   "id": "cdc9a561",
   "metadata": {},
   "outputs": [
    {
     "data": {
      "text/plain": [
       "2500328"
      ]
     },
     "execution_count": 5,
     "metadata": {},
     "output_type": "execute_result"
    }
   ],
   "source": [
    "# The values of the box were manually determined by inspecting the point cloud\n",
    "# in cloudcompare.\n",
    "ulm_325_box_center = (476110.031, 5230827.372, 87.567)\n",
    "ulm_325_box_size = (53.144, 49.606, 36.957)\n",
    "\n",
    "ulm_325_clip_box = center_and_size_to_box(ulm_325_box_center, ulm_325_box_size)\n",
    "(minx, maxx, miny, maxy, minz, maxz) = ulm_325_clip_box\n",
    "\n",
    "assign_expressions = [\n",
    "    f\"Classification = 18 WHERE X >= {minx} && X <= {maxx} && Y >= {miny} && Y <= {maxy} && HeightAboveGround >= {minz} && HeightAboveGround <= {maxz}\"\n",
    "]\n",
    "\n",
    "pipeline = ( pdal.Reader(str(backup_dir / \"ULM_325.copc.laz\")) \n",
    "    | pdal.Filter(\"filters.assign\", value=assign_expressions) \n",
    "    | pdal.Writer(str(site_lidar_dir / \"ULM_325.copc.laz\"), type=\"writers.copc\",  forward=\"scale,offset\", extra_dims= \"all\")\n",
    ")\n",
    "\n",
    "pipeline.execute()"
   ]
  },
  {
   "cell_type": "markdown",
   "id": "9fc4653e",
   "metadata": {},
   "source": [
    "## ULM 147\n",
    "\n",
    "I wasn't able to create a single bounding box to capture all the ULM 147 noise, instead I need two boxes."
   ]
  },
  {
   "cell_type": "code",
   "execution_count": 6,
   "id": "de8b86a4",
   "metadata": {},
   "outputs": [
    {
     "data": {
      "text/plain": [
       "2076852"
      ]
     },
     "execution_count": 6,
     "metadata": {},
     "output_type": "execute_result"
    }
   ],
   "source": [
    "# The values of the box were manually determined by inspecting the point cloud\n",
    "# in cloudcompare.\n",
    "ulm_147_boxA_center = (457919.822, 5285528.094, 121.494)\n",
    "ulm_147_boxA_size = (95.724, 93.489, 82.994)\n",
    "\n",
    "ulm_147_boxB_center = (457945.263, 5285589.062, 120.843)\n",
    "ulm_147_boxB_size = (58.202, 22.717, 29.792)\n",
    "\n",
    "ulm_147_clip_boxA = center_and_size_to_box(ulm_147_boxA_center, ulm_147_boxA_size)\n",
    "(minxa, maxxa, minya, maxya, minza, maxza) = ulm_147_clip_boxA\n",
    "\n",
    "ulm_147_clip_boxB = center_and_size_to_box(ulm_147_boxB_center, ulm_147_boxB_size)\n",
    "(minxb, maxxb, minyb, maxyb, minzb, maxzb) = ulm_147_clip_boxB\n",
    "\n",
    "assign_expressions = [\n",
    "    f\"Classification = 18 WHERE X >= {minxa} && X <= {maxxa} && Y >= {minya} && Y <= {maxya} && HeightAboveGround >= {minza} && HeightAboveGround <= {maxza}\",\n",
    "    f\"Classification = 18 WHERE X >= {minxb} && X <= {maxxb} && Y >= {minyb} && Y <= {maxyb} && HeightAboveGround >= {minzb} && HeightAboveGround <= {maxzb}\",\n",
    "    # Because I missed one\n",
    "    \"Classification = 18 WHERE HeightAboveGround > 100\"\n",
    "]\n",
    "\n",
    "pipeline = ( pdal.Reader(str(backup_dir / \"ULM_147.copc.laz\")) \n",
    "    | pdal.Filter(\"filters.assign\", value=assign_expressions)\n",
    "    | pdal.Writer(str(site_lidar_dir / \"ULM_147.copc.laz\"), type=\"writers.copc\",  forward=\"scale,offset\", extra_dims= \"all\")\n",
    ")\n",
    "\n",
    "pipeline.execute()"
   ]
  },
  {
   "cell_type": "markdown",
   "id": "10f2a586",
   "metadata": {},
   "source": [
    "# Visualising the results\n",
    "\n",
    "Points classified as cloud noise (using the Classification 18 for high noise) are shown in dark red below."
   ]
  },
  {
   "cell_type": "code",
   "execution_count": 5,
   "id": "6009cca4",
   "metadata": {},
   "outputs": [],
   "source": [
    "def read_point_cloud(file_path):\n",
    "    pipeline = pdal.Reader(file_path).pipeline()\n",
    "    pipeline.execute()\n",
    "    return pipeline.arrays[0]\n",
    "\n",
    "def plot_point_cloud(nd):\n",
    "    X = nd[\"X\"]\n",
    "    Y = nd[\"Y\"]\n",
    "    Z = nd[\"HeightAboveGround\"]\n",
    "    positions = np.column_stack((X, Y, Z)).astype(\"float32\")\n",
    "\n",
    "\n",
    "    # Highlight any points with classification 18 (high noise)\n",
    "    # also highlight classification 7 (low noise)\n",
    "    classification = nd[\"Classification\"]\n",
    "    colors = np.zeros(positions.shape, dtype=np.uint8)\n",
    "    colors[:] = [173, 216, 230]     # Pale blue \n",
    "    colors[classification == 18] = [139, 15, 30] # Dark red\n",
    "    colors[classification == 7] = [255, 193, 37] # Goldenrod\n",
    "    \n",
    "    mesh = pv.PolyData(positions)\n",
    "    mesh['colors'] = colors\n",
    "\n",
    "    mesh.plot(point_size=4, scalars='colors', rgb=True)"
   ]
  },
  {
   "cell_type": "code",
   "execution_count": 6,
   "id": "6bef8bc9",
   "metadata": {},
   "outputs": [
    {
     "data": {
      "application/vnd.jupyter.widget-view+json": {
       "model_id": "74bf2b0f029347e5851179ded79e3a0f",
       "version_major": 2,
       "version_minor": 0
      },
      "text/plain": [
       "Widget(value='<iframe src=\"http://localhost:49988/index.html?ui=P_0x1758386e0_0&reconnect=auto\" class=\"pyvista…"
      ]
     },
     "metadata": {},
     "output_type": "display_data"
    },
    {
     "data": {
      "application/vnd.jupyter.widget-view+json": {
       "model_id": "31926a1bcb64473a88fa9b35685353b6",
       "version_major": 2,
       "version_minor": 0
      },
      "text/plain": [
       "Widget(value='<iframe src=\"http://localhost:49988/index.html?ui=P_0x177882fd0_1&reconnect=auto\" class=\"pyvista…"
      ]
     },
     "metadata": {},
     "output_type": "display_data"
    }
   ],
   "source": [
    "ulm_325 = read_point_cloud(site_lidar_dir / \"ULM_325.copc.laz\")\n",
    "ulm_147 = read_point_cloud(site_lidar_dir / \"ULM_147.copc.laz\")\n",
    "plot_point_cloud(ulm_325)\n",
    "plot_point_cloud(ulm_147)"
   ]
  }
 ],
 "metadata": {
  "kernelspec": {
   "display_name": "default",
   "language": "python",
   "name": "python3"
  },
  "language_info": {
   "codemirror_mode": {
    "name": "ipython",
    "version": 3
   },
   "file_extension": ".py",
   "mimetype": "text/x-python",
   "name": "python",
   "nbconvert_exporter": "python",
   "pygments_lexer": "ipython3",
   "version": "3.13.5"
  }
 },
 "nbformat": 4,
 "nbformat_minor": 5
}
