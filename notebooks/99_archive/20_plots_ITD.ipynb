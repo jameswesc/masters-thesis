{
 "cells": [
  {
   "cell_type": "markdown",
   "id": "1ba8395a",
   "metadata": {},
   "source": [
    "# Individual Tree Detection (ITD)\n",
    "\n",
    "TODO\n",
    "\n",
    "Left as optional as its very compute intensive.\n",
    "\n",
    "Remember to sort by height before running!"
   ]
  }
 ],
 "metadata": {
  "language_info": {
   "name": "python"
  }
 },
 "nbformat": 4,
 "nbformat_minor": 5
}
