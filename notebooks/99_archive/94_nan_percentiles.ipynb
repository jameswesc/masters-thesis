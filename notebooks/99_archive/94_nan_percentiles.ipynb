{
 "cells": [
  {
   "cell_type": "markdown",
   "id": "0566d04e",
   "metadata": {},
   "source": [
    "# TODO - Figure out why some percentiles have nan"
   ]
  },
  {
   "cell_type": "code",
   "execution_count": null,
   "id": "ba1e2117",
   "metadata": {},
   "outputs": [],
   "source": []
  }
 ],
 "metadata": {
  "language_info": {
   "name": "python"
  }
 },
 "nbformat": 4,
 "nbformat_minor": 5
}
