{
 "cells": [
  {
   "cell_type": "markdown",
   "id": "04622957",
   "metadata": {},
   "source": [
    "# Visualise Sites"
   ]
  },
  {
   "cell_type": "code",
   "execution_count": 1,
   "id": "984bbe49",
   "metadata": {},
   "outputs": [],
   "source": [
    "import pdal\n",
    "import pandas as pd\n",
    "import numpy as np\n",
    "import geopandas as gpd\n",
    "\n",
    "import pyvista as pv\n",
    "pv.set_jupyter_backend('client')\n",
    "\n",
    "from pathlib import Path\n",
    "import ipywidgets as widgets\n",
    "from IPython.display import display"
   ]
  },
  {
   "cell_type": "code",
   "execution_count": 2,
   "id": "1aed7f52",
   "metadata": {},
   "outputs": [],
   "source": [
    "site_lidar_dir = Path('../data/outputs/sites/lidar')\n",
    "sites_gdf = gpd.read_file('../data/outputs/sites/sites.geojson')\n",
    "sites = sites_gdf['site'].to_list()"
   ]
  },
  {
   "cell_type": "code",
   "execution_count": 3,
   "id": "e805a4ca",
   "metadata": {},
   "outputs": [],
   "source": [
    "def read_point_cloud(file_path):\n",
    "    pipeline = pdal.Reader(file_path) | pdal.Filter('filters.range', limits='Classification[0:5]')\n",
    "    pipeline.execute()\n",
    "    return pd.DataFrame(pipeline.arrays[0])\n",
    "\n",
    "def plot_point_cloud(df, color='rgb'):\n",
    "    X = df[\"X\"] - df[\"X\"].min()\n",
    "    Y = df[\"Y\"] - df[\"Y\"].min()\n",
    "    Z = df[\"Z\"]\n",
    "    positions = np.column_stack((X, Y, Z)).astype(\"float32\")\n",
    "\n",
    "    R = (df[\"Red\"] / 65535 * 255).astype(\"uint8\")\n",
    "    G = (df[\"Green\"] / 65535 * 255).astype(\"uint8\")\n",
    "    B = (df[\"Blue\"] / 65535 * 255).astype(\"uint8\")\n",
    "    colors = np.column_stack((R, G, B))\n",
    "\n",
    "    mesh = pv.PolyData(positions)\n",
    "    mesh['height'] = Z\n",
    "    mesh['rgb'] = colors\n",
    "    mesh.plot(point_size=2, scalars=color, rgb=(color == 'rgb'), cpos='xz', show_axes=True, notebook=True)\n",
    "\n",
    "def read_and_plot_site(site: str, color = 'rgb'):\n",
    "    file_path = str(site_lidar_dir / f\"{site}.copc.laz\")\n",
    "    lidar_df = read_point_cloud(file_path)\n",
    "    plot_point_cloud(lidar_df, color=color)"
   ]
  },
  {
   "cell_type": "code",
   "execution_count": null,
   "id": "52bb1a48",
   "metadata": {},
   "outputs": [
    {
     "data": {
      "application/vnd.jupyter.widget-view+json": {
       "model_id": "1c76b4998bc34f07ab4a732fb814bc90",
       "version_major": 2,
       "version_minor": 0
      },
      "text/plain": [
       "interactive(children=(Dropdown(description='Site:', options=('AGG_O_01', 'AGG_O_05', 'AGG_O_07', 'AGG_Y_02', '…"
      ]
     },
     "metadata": {},
     "output_type": "display_data"
    }
   ],
   "source": [
    "# Create interactive widgets for site selection\n",
    "site_dropdown = widgets.Dropdown(\n",
    "    options=sites,\n",
    "    value=sites[0] if sites else None,\n",
    "    description='Site:',\n",
    "    disabled=False,\n",
    ")\n",
    "\n",
    "color_dropdown = widgets.Dropdown(\n",
    "    options=['rgb', 'height'],\n",
    "    value='rgb',\n",
    "    description='Color by:',\n",
    "    disabled=False,\n",
    ")\n",
    "\n",
    "# Function to handle the plot update\n",
    "def update_plot(site, color):\n",
    "    read_and_plot_site(site, color=color)\n",
    "\n",
    "# Create interactive plot\n",
    "interactive_plot = widgets.interactive(update_plot, site=site_dropdown, color=color_dropdown)\n",
    "display(interactive_plot)"
   ]
  }
 ],
 "metadata": {
  "kernelspec": {
   "display_name": "default",
   "language": "python",
   "name": "python3"
  },
  "language_info": {
   "codemirror_mode": {
    "name": "ipython",
    "version": 3
   },
   "file_extension": ".py",
   "mimetype": "text/x-python",
   "name": "python",
   "nbconvert_exporter": "python",
   "pygments_lexer": "ipython3",
   "version": "3.13.5"
  }
 },
 "nbformat": 4,
 "nbformat_minor": 5
}
