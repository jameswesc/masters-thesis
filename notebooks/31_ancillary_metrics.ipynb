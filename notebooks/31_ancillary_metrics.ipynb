{
 "cells": [
  {
   "cell_type": "code",
   "execution_count": 1,
   "id": "38d4950c",
   "metadata": {},
   "outputs": [],
   "source": [
    "from pathlib import Path\n",
    "\n",
    "import geopandas as gpd\n",
    "import pandas as pd\n",
    "import numpy as np\n",
    "import xarray as xr\n",
    "import rioxarray\n",
    "\n",
    "data_dir = Path('../data')"
   ]
  },
  {
   "cell_type": "code",
   "execution_count": 2,
   "id": "fec3e726",
   "metadata": {},
   "outputs": [
    {
     "data": {
      "text/html": [
       "<div>\n",
       "<style scoped>\n",
       "    .dataframe tbody tr th:only-of-type {\n",
       "        vertical-align: middle;\n",
       "    }\n",
       "\n",
       "    .dataframe tbody tr th {\n",
       "        vertical-align: top;\n",
       "    }\n",
       "\n",
       "    .dataframe thead th {\n",
       "        text-align: right;\n",
       "    }\n",
       "</style>\n",
       "<table border=\"1\" class=\"dataframe\">\n",
       "  <thead>\n",
       "    <tr style=\"text-align: right;\">\n",
       "      <th></th>\n",
       "      <th>site</th>\n",
       "      <th>plot_number</th>\n",
       "      <th>site_plot_id</th>\n",
       "      <th>geometry</th>\n",
       "    </tr>\n",
       "    <tr>\n",
       "      <th>id</th>\n",
       "      <th></th>\n",
       "      <th></th>\n",
       "      <th></th>\n",
       "      <th></th>\n",
       "    </tr>\n",
       "  </thead>\n",
       "  <tbody>\n",
       "    <tr>\n",
       "      <th>AGG_O_01_P1</th>\n",
       "      <td>AGG_O_01</td>\n",
       "      <td>1</td>\n",
       "      <td>AGG_O_01_P1</td>\n",
       "      <td>POLYGON ((463042.83 5259846.736, 463025.797 52...</td>\n",
       "    </tr>\n",
       "    <tr>\n",
       "      <th>AGG_O_01_P2</th>\n",
       "      <td>AGG_O_01</td>\n",
       "      <td>2</td>\n",
       "      <td>AGG_O_01_P2</td>\n",
       "      <td>POLYGON ((463124.556 5259819.234, 463116.068 5...</td>\n",
       "    </tr>\n",
       "    <tr>\n",
       "      <th>AGG_O_01_P3</th>\n",
       "      <td>AGG_O_01</td>\n",
       "      <td>3</td>\n",
       "      <td>AGG_O_01_P3</td>\n",
       "      <td>POLYGON ((463201.174 5259815.806, 463200.551 5...</td>\n",
       "    </tr>\n",
       "    <tr>\n",
       "      <th>AGG_O_01_P4</th>\n",
       "      <td>AGG_O_01</td>\n",
       "      <td>4</td>\n",
       "      <td>AGG_O_01_P4</td>\n",
       "      <td>POLYGON ((463257.777 5259801.962, 463245.303 5...</td>\n",
       "    </tr>\n",
       "    <tr>\n",
       "      <th>AGG_O_01_P5</th>\n",
       "      <td>AGG_O_01</td>\n",
       "      <td>5</td>\n",
       "      <td>AGG_O_01_P5</td>\n",
       "      <td>POLYGON ((463303.022 5259789.552, 463289.794 5...</td>\n",
       "    </tr>\n",
       "    <tr>\n",
       "      <th>...</th>\n",
       "      <td>...</td>\n",
       "      <td>...</td>\n",
       "      <td>...</td>\n",
       "      <td>...</td>\n",
       "    </tr>\n",
       "    <tr>\n",
       "      <th>ULY_Y_96_P1</th>\n",
       "      <td>ULY_Y_96</td>\n",
       "      <td>1</td>\n",
       "      <td>ULY_Y_96_P1</td>\n",
       "      <td>POLYGON ((455348.476 5275834.517, 455348.154 5...</td>\n",
       "    </tr>\n",
       "    <tr>\n",
       "      <th>ULY_Y_96_P2</th>\n",
       "      <td>ULY_Y_96</td>\n",
       "      <td>2</td>\n",
       "      <td>ULY_Y_96_P2</td>\n",
       "      <td>POLYGON ((455296.576 5275837.224, 455299.223 5...</td>\n",
       "    </tr>\n",
       "    <tr>\n",
       "      <th>ULY_Y_96_P3</th>\n",
       "      <td>ULY_Y_96</td>\n",
       "      <td>3</td>\n",
       "      <td>ULY_Y_96_P3</td>\n",
       "      <td>POLYGON ((455252.092 5275834.16, 455248.849 52...</td>\n",
       "    </tr>\n",
       "    <tr>\n",
       "      <th>ULY_Y_96_P4</th>\n",
       "      <td>ULY_Y_96</td>\n",
       "      <td>4</td>\n",
       "      <td>ULY_Y_96_P4</td>\n",
       "      <td>POLYGON ((455260.873 5275804.177, 455212.771 5...</td>\n",
       "    </tr>\n",
       "    <tr>\n",
       "      <th>ULY_Y_96_P5</th>\n",
       "      <td>ULY_Y_96</td>\n",
       "      <td>5</td>\n",
       "      <td>ULY_Y_96_P5</td>\n",
       "      <td>POLYGON ((455248.927 5275757.266, 455200.476 5...</td>\n",
       "    </tr>\n",
       "  </tbody>\n",
       "</table>\n",
       "<p>315 rows × 4 columns</p>\n",
       "</div>"
      ],
      "text/plain": [
       "                 site  plot_number site_plot_id  \\\n",
       "id                                                \n",
       "AGG_O_01_P1  AGG_O_01            1  AGG_O_01_P1   \n",
       "AGG_O_01_P2  AGG_O_01            2  AGG_O_01_P2   \n",
       "AGG_O_01_P3  AGG_O_01            3  AGG_O_01_P3   \n",
       "AGG_O_01_P4  AGG_O_01            4  AGG_O_01_P4   \n",
       "AGG_O_01_P5  AGG_O_01            5  AGG_O_01_P5   \n",
       "...               ...          ...          ...   \n",
       "ULY_Y_96_P1  ULY_Y_96            1  ULY_Y_96_P1   \n",
       "ULY_Y_96_P2  ULY_Y_96            2  ULY_Y_96_P2   \n",
       "ULY_Y_96_P3  ULY_Y_96            3  ULY_Y_96_P3   \n",
       "ULY_Y_96_P4  ULY_Y_96            4  ULY_Y_96_P4   \n",
       "ULY_Y_96_P5  ULY_Y_96            5  ULY_Y_96_P5   \n",
       "\n",
       "                                                      geometry  \n",
       "id                                                              \n",
       "AGG_O_01_P1  POLYGON ((463042.83 5259846.736, 463025.797 52...  \n",
       "AGG_O_01_P2  POLYGON ((463124.556 5259819.234, 463116.068 5...  \n",
       "AGG_O_01_P3  POLYGON ((463201.174 5259815.806, 463200.551 5...  \n",
       "AGG_O_01_P4  POLYGON ((463257.777 5259801.962, 463245.303 5...  \n",
       "AGG_O_01_P5  POLYGON ((463303.022 5259789.552, 463289.794 5...  \n",
       "...                                                        ...  \n",
       "ULY_Y_96_P1  POLYGON ((455348.476 5275834.517, 455348.154 5...  \n",
       "ULY_Y_96_P2  POLYGON ((455296.576 5275837.224, 455299.223 5...  \n",
       "ULY_Y_96_P3  POLYGON ((455252.092 5275834.16, 455248.849 52...  \n",
       "ULY_Y_96_P4  POLYGON ((455260.873 5275804.177, 455212.771 5...  \n",
       "ULY_Y_96_P5  POLYGON ((455248.927 5275757.266, 455200.476 5...  \n",
       "\n",
       "[315 rows x 4 columns]"
      ]
     },
     "execution_count": 2,
     "metadata": {},
     "output_type": "execute_result"
    }
   ],
   "source": [
    "metrics_dir = data_dir / 'outputs/plots/metrics/x1-y1-z1/net_cdf'\n",
    "\n",
    "def read_plot_metrics(plot_id: str):\n",
    "    metrics = xr.open_dataset(metrics_dir / f\"{plot_id}.nc\", decode_coords='all')\n",
    "    metrics.load()\n",
    "    metrics.close()\n",
    "    return metrics\n",
    "\n",
    "plots = gpd.read_file(data_dir / \"outputs/plots/plots.geojson\")\n",
    "plots = plots.set_index('id')\n",
    "plots"
   ]
  },
  {
   "cell_type": "code",
   "execution_count": null,
   "id": "730709bb",
   "metadata": {},
   "outputs": [],
   "source": [
    "def get_ancillary_metrics(row: gpd.GeoSeries) -> pd.Series:\n",
    "    id = row.name\n",
    "    metrics : xr.Dataset = read_plot_metrics(id)    \n",
    "\n",
    "    return pd.Series({\n",
    "        \"mean_pulse_density\": metrics['pulse_density'].mean().item(),\n",
    "        \"total_pulses\": metrics['pulse_density'].sum().item(),\n",
    "        \"mean_point_density\": metrics['point_density'].mean().item(),\n",
    "        \"total_points\": metrics['point_density'].sum().item(),\n",
    "        \"mean_scan_angle\": metrics['scan_angle_mean'].mean().item(),\n",
    "        \"max_scan_angle\": np.absolute(metrics['scan_angle_mean']).max().item()\n",
    "    })"
   ]
  },
  {
   "cell_type": "code",
   "execution_count": 11,
   "id": "7de1f314",
   "metadata": {},
   "outputs": [
    {
     "data": {
      "application/vnd.microsoft.datawrangler.viewer.v0+json": {
       "columns": [
        {
         "name": "index",
         "rawType": "object",
         "type": "string"
        },
        {
         "name": "0",
         "rawType": "float64",
         "type": "float"
        }
       ],
       "ref": "d8304304-85d7-4a31-aa7c-4689eb6f653b",
       "rows": [
        [
         "mean_pulse_density",
         "48.68292682926829"
        ],
        [
         "total_pulses",
         "129740.0"
        ],
        [
         "mean_point_density",
         "94.73133208255159"
        ],
        [
         "total_points",
         "252459.0"
        ],
        [
         "mean_scan_angle",
         "-0.07018487900495529"
        ],
        [
         "max_scan_angle",
         "0.11345455795526505"
        ]
       ],
       "shape": {
        "columns": 1,
        "rows": 6
       }
      },
      "text/plain": [
       "mean_pulse_density        48.682927\n",
       "total_pulses          129740.000000\n",
       "mean_point_density        94.731332\n",
       "total_points          252459.000000\n",
       "mean_scan_angle           -0.070185\n",
       "max_scan_angle             0.113455\n",
       "dtype: float64"
      ]
     },
     "execution_count": 11,
     "metadata": {},
     "output_type": "execute_result"
    }
   ],
   "source": [
    "get_ancillary_metrics(plots.iloc[0])"
   ]
  },
  {
   "cell_type": "code",
   "execution_count": 12,
   "id": "b05eaca6",
   "metadata": {},
   "outputs": [
    {
     "data": {
      "application/vnd.microsoft.datawrangler.viewer.v0+json": {
       "columns": [
        {
         "name": "id",
         "rawType": "object",
         "type": "string"
        },
        {
         "name": "mean_pulse_density",
         "rawType": "float64",
         "type": "float"
        },
        {
         "name": "total_pulses",
         "rawType": "float64",
         "type": "float"
        },
        {
         "name": "mean_point_density",
         "rawType": "float64",
         "type": "float"
        },
        {
         "name": "total_points",
         "rawType": "float64",
         "type": "float"
        },
        {
         "name": "mean_scan_angle",
         "rawType": "float64",
         "type": "float"
        },
        {
         "name": "max_scan_angle",
         "rawType": "float64",
         "type": "float"
        }
       ],
       "ref": "1eb0bd24-f0a8-4251-a681-ae611446b37e",
       "rows": [
        [
         "AGG_O_01_P1",
         "48.68292682926829",
         "129740.0",
         "94.73133208255159",
         "252459.0",
         "-0.07018487900495529",
         "0.11345455795526505"
        ],
        [
         "AGG_O_01_P2",
         "48.28949579831933",
         "114929.0",
         "94.24537815126051",
         "224304.0",
         "-0.06596098840236664",
         "0.12040384113788605"
        ],
        [
         "AGG_O_01_P3",
         "48.29052631578947",
         "137628.0",
         "96.45438596491228",
         "274895.0",
         "-0.06616303324699402",
         "0.12583178281784058"
        ],
        [
         "AGG_O_01_P4",
         "49.79526355996944",
         "130364.0",
         "109.50458365164248",
         "286683.0",
         "-0.06456717848777771",
         "0.15109090507030487"
        ],
        [
         "AGG_O_01_P5",
         "49.10356682423721",
         "114264.0",
         "121.2913622690159",
         "282245.0",
         "-0.06065593659877777",
         "0.14134308695793152"
        ],
        [
         "AGG_O_05_P1",
         "29.884472049689442",
         "72171.0",
         "58.40207039337474",
         "141041.0",
         "14.252342224121094",
         "18.942293167114258"
        ],
        [
         "AGG_O_05_P2",
         "30.149453219927096",
         "74439.0",
         "57.2106115836371",
         "141253.0",
         "12.899505615234375",
         "20.73676109313965"
        ],
        [
         "AGG_O_05_P3",
         "29.584315318976024",
         "72807.0",
         "54.36367330353515",
         "133789.0",
         "11.946175575256348",
         "20.454925537109375"
        ],
        [
         "AGG_O_05_P4",
         "32.73548387096774",
         "76110.0",
         "66.3010752688172",
         "154150.0",
         "14.330707550048828",
         "20.97918701171875"
        ],
        [
         "AGG_O_05_P5",
         "31.61841559518872",
         "76232.0",
         "67.7901285773538",
         "163442.0",
         "14.429018020629883",
         "20.031333923339844"
        ],
        [
         "AGG_O_07_P1",
         "28.38421264599275",
         "70478.0",
         "63.20741039065646",
         "156944.0",
         "-0.0721612498164177",
         "0.13550767302513123"
        ],
        [
         "AGG_O_07_P2",
         "28.1799591002045",
         "68900.0",
         "51.29938650306748",
         "125427.0",
         "-0.07655858248472214",
         "0.13376088440418243"
        ],
        [
         "AGG_O_07_P3",
         "29.197933227344993",
         "73462.0",
         "49.33346581875993",
         "124123.0",
         "-0.08352518081665039",
         "0.1328108012676239"
        ],
        [
         "AGG_O_07_P4",
         "32.2145816072908",
         "77766.0",
         "58.12178956089478",
         "140306.0",
         "-0.086626797914505",
         "0.11899998784065247"
        ],
        [
         "AGG_O_07_P5",
         "30.48347971560017",
         "72886.0",
         "54.7749895441238",
         "130967.0",
         "-0.09082009643316269",
         "0.11535481363534927"
        ],
        [
         "AGG_Y_02_P1",
         "37.59014514896868",
         "98411.0",
         "46.88044308632544",
         "122733.0",
         "21.895719528198242",
         "22.585899353027344"
        ],
        [
         "AGG_Y_02_P2",
         "36.78054133138259",
         "100558.0",
         "42.282370153621066",
         "115600.0",
         "21.48583221435547",
         "22.94816780090332"
        ],
        [
         "AGG_Y_02_P3",
         "36.282377919320595",
         "85445.0",
         "44.34267515923567",
         "104427.0",
         "20.90523338317871",
         "24.533233642578125"
        ],
        [
         "AGG_Y_02_P5",
         "37.100974313551816",
         "83774.0",
         "91.46191319751993",
         "206521.0",
         "20.0031795501709",
         "25.83981704711914"
        ],
        [
         "AGG_Y_02_P4",
         "37.018181818181816",
         "79404.0",
         "87.18508158508159",
         "187012.0",
         "22.136293411254883",
         "23.79134750366211"
        ],
        [
         "AGG_Y_03_P1",
         "32.24749034749035",
         "83521.0",
         "69.66486486486487",
         "180432.0",
         "15.636085510253906",
         "26.301088333129883"
        ],
        [
         "AGG_Y_03_P2",
         "34.33305192064162",
         "81335.0",
         "84.45757703672436",
         "200080.0",
         "17.31692886352539",
         "25.728002548217773"
        ],
        [
         "AGG_Y_03_P3",
         "33.56488549618321",
         "83543.0",
         "50.36480514262756",
         "125358.0",
         "17.320350646972656",
         "25.05833625793457"
        ],
        [
         "AGG_Y_04_P1",
         "22.322841000807102",
         "55316.0",
         "31.35996771589992",
         "77710.0",
         "11.807255744934082",
         "23.968894958496094"
        ],
        [
         "AGG_Y_04_P2",
         "29.46697928878468",
         "75406.0",
         "43.588120359515436",
         "111542.0",
         "17.386144638061523",
         "25.378589630126953"
        ],
        [
         "AGG_Y_04_P3",
         "35.79221889696451",
         "83718.0",
         "47.93287729799059",
         "112115.0",
         "18.025110244750977",
         "20.642881393432617"
        ],
        [
         "AGG_Y_04_P4",
         "32.27038043478261",
         "71253.0",
         "70.7848731884058",
         "156293.0",
         "18.591644287109375",
         "24.396434783935547"
        ],
        [
         "AGG_Y_04_P5",
         "34.34493426140758",
         "88816.0",
         "76.9416086620263",
         "198971.0",
         "18.432687759399414",
         "24.677812576293945"
        ],
        [
         "EPO_O_04_P1",
         "30.14219798657718",
         "71859.0",
         "63.60486577181208",
         "151634.0",
         "16.001218795776367",
         "27.289615631103516"
        ],
        [
         "EPO_O_04_P2",
         "30.454175905395417",
         "82409.0",
         "64.86067997043607",
         "175513.0",
         "16.006195068359375",
         "24.975997924804688"
        ],
        [
         "EPO_O_04_P4",
         "30.50051993067591",
         "87994.0",
         "64.8318890814558",
         "187040.0",
         "15.85990047454834",
         "25.156402587890625"
        ],
        [
         "EPO_O_04_P5",
         "30.024244833068362",
         "75541.0",
         "64.35095389507154",
         "161907.0",
         "15.766983032226562",
         "25.472000122070312"
        ],
        [
         "EPO_O_04_P3",
         "30.543808125305922",
         "62401.0",
         "65.04747919725894",
         "132892.0",
         "15.968574523925781",
         "27.20639991760254"
        ],
        [
         "EPO_O_13_P1",
         "31.655787641427327",
         "72745.0",
         "67.44038294168843",
         "154978.0",
         "-0.013976626098155975",
         "0.11400000005960464"
        ],
        [
         "EPO_O_13_P2",
         "30.886687797147385",
         "77958.0",
         "68.14302694136292",
         "171993.0",
         "-0.017535123974084854",
         "0.11575865000486374"
        ],
        [
         "EPO_O_13_P3",
         "31.23435054773083",
         "79835.0",
         "68.34859154929578",
         "174699.0",
         "-0.023150192573666573",
         "0.14399999380111694"
        ],
        [
         "EPO_O_13_P4",
         "30.63664962642548",
         "77909.0",
         "64.09752261108926",
         "163000.0",
         "-0.030661238357424736",
         "0.1362857073545456"
        ],
        [
         "EPO_O_13_P5",
         "30.22827618600282",
         "64356.0",
         "63.196806012212306",
         "134546.0",
         "-0.03801190108060837",
         "0.12780821323394775"
        ],
        [
         "AGG_Y_03_P4",
         "32.24666972898484",
         "70201.0",
         "47.984841525034454",
         "104463.0",
         "16.469696044921875",
         "22.381933212280273"
        ],
        [
         "AGG_Y_03_P5",
         "32.12231404958678",
         "77736.0",
         "46.15578512396694",
         "111697.0",
         "15.809591293334961",
         "22.52730941772461"
        ],
        [
         "EPO_Y_10_P1",
         "48.14020202020202",
         "119147.0",
         "92.23919191919192",
         "228292.0",
         "-17.75685691833496",
         "19.608728408813477"
        ],
        [
         "EPO_Y_10_P2",
         "48.67125506072875",
         "120218.0",
         "93.81983805668017",
         "231735.0",
         "-17.349529266357422",
         "18.48714256286621"
        ],
        [
         "EPO_Y_10_P3",
         "49.76552032157213",
         "111425.0",
         "100.03751674854846",
         "223984.0",
         "-16.70337677001953",
         "19.181367874145508"
        ],
        [
         "EPO_Y_10_P4",
         "49.70968882602546",
         "140579.0",
         "100.87234794908062",
         "285267.0",
         "-15.822999000549316",
         "18.787240982055664"
        ],
        [
         "EPO_Y_10_P5",
         "49.27481840193705",
         "122103.0",
         "101.2820823244552",
         "250977.0",
         "-14.50784683227539",
         "21.784799575805664"
        ],
        [
         "EPO_Y_15_P1",
         "34.51035781544256",
         "91625.0",
         "82.3819209039548",
         "218724.0",
         "-0.09551180899143219",
         "0.1469999998807907"
        ],
        [
         "EPO_Y_15_P2",
         "34.90080738177624",
         "90777.0",
         "80.29142637447136",
         "208838.0",
         "-0.09011965245008469",
         "0.14717648923397064"
        ],
        [
         "EPO_Y_15_P3",
         "24.408092485549133",
         "63339.0",
         "61.03815028901734",
         "158394.0",
         "-0.047045234590768814",
         "0.14346669614315033"
        ],
        [
         "EPO_Y_15_P4",
         "19.465045592705167",
         "51232.0",
         "49.025075987841944",
         "129034.0",
         "-0.009964179247617722",
         "0.018000001087784767"
        ],
        [
         "EPO_Y_15_P5",
         "19.71641174038859",
         "47694.0",
         "49.42331541959487",
         "119555.0",
         "0.000845127331558615",
         "0.006000001914799213"
        ]
       ],
       "shape": {
        "columns": 6,
        "rows": 315
       }
      },
      "text/html": [
       "<div>\n",
       "<style scoped>\n",
       "    .dataframe tbody tr th:only-of-type {\n",
       "        vertical-align: middle;\n",
       "    }\n",
       "\n",
       "    .dataframe tbody tr th {\n",
       "        vertical-align: top;\n",
       "    }\n",
       "\n",
       "    .dataframe thead th {\n",
       "        text-align: right;\n",
       "    }\n",
       "</style>\n",
       "<table border=\"1\" class=\"dataframe\">\n",
       "  <thead>\n",
       "    <tr style=\"text-align: right;\">\n",
       "      <th></th>\n",
       "      <th>mean_pulse_density</th>\n",
       "      <th>total_pulses</th>\n",
       "      <th>mean_point_density</th>\n",
       "      <th>total_points</th>\n",
       "      <th>mean_scan_angle</th>\n",
       "      <th>max_scan_angle</th>\n",
       "    </tr>\n",
       "    <tr>\n",
       "      <th>id</th>\n",
       "      <th></th>\n",
       "      <th></th>\n",
       "      <th></th>\n",
       "      <th></th>\n",
       "      <th></th>\n",
       "      <th></th>\n",
       "    </tr>\n",
       "  </thead>\n",
       "  <tbody>\n",
       "    <tr>\n",
       "      <th>AGG_O_01_P1</th>\n",
       "      <td>48.682927</td>\n",
       "      <td>129740.0</td>\n",
       "      <td>94.731332</td>\n",
       "      <td>252459.0</td>\n",
       "      <td>-0.070185</td>\n",
       "      <td>0.113455</td>\n",
       "    </tr>\n",
       "    <tr>\n",
       "      <th>AGG_O_01_P2</th>\n",
       "      <td>48.289496</td>\n",
       "      <td>114929.0</td>\n",
       "      <td>94.245378</td>\n",
       "      <td>224304.0</td>\n",
       "      <td>-0.065961</td>\n",
       "      <td>0.120404</td>\n",
       "    </tr>\n",
       "    <tr>\n",
       "      <th>AGG_O_01_P3</th>\n",
       "      <td>48.290526</td>\n",
       "      <td>137628.0</td>\n",
       "      <td>96.454386</td>\n",
       "      <td>274895.0</td>\n",
       "      <td>-0.066163</td>\n",
       "      <td>0.125832</td>\n",
       "    </tr>\n",
       "    <tr>\n",
       "      <th>AGG_O_01_P4</th>\n",
       "      <td>49.795264</td>\n",
       "      <td>130364.0</td>\n",
       "      <td>109.504584</td>\n",
       "      <td>286683.0</td>\n",
       "      <td>-0.064567</td>\n",
       "      <td>0.151091</td>\n",
       "    </tr>\n",
       "    <tr>\n",
       "      <th>AGG_O_01_P5</th>\n",
       "      <td>49.103567</td>\n",
       "      <td>114264.0</td>\n",
       "      <td>121.291362</td>\n",
       "      <td>282245.0</td>\n",
       "      <td>-0.060656</td>\n",
       "      <td>0.141343</td>\n",
       "    </tr>\n",
       "    <tr>\n",
       "      <th>...</th>\n",
       "      <td>...</td>\n",
       "      <td>...</td>\n",
       "      <td>...</td>\n",
       "      <td>...</td>\n",
       "      <td>...</td>\n",
       "      <td>...</td>\n",
       "    </tr>\n",
       "    <tr>\n",
       "      <th>ULY_Y_96_P1</th>\n",
       "      <td>27.347843</td>\n",
       "      <td>69737.0</td>\n",
       "      <td>43.126275</td>\n",
       "      <td>109972.0</td>\n",
       "      <td>-11.770692</td>\n",
       "      <td>25.534655</td>\n",
       "    </tr>\n",
       "    <tr>\n",
       "      <th>ULY_Y_96_P2</th>\n",
       "      <td>27.518034</td>\n",
       "      <td>69428.0</td>\n",
       "      <td>39.183908</td>\n",
       "      <td>98861.0</td>\n",
       "      <td>-14.802362</td>\n",
       "      <td>23.922390</td>\n",
       "    </tr>\n",
       "    <tr>\n",
       "      <th>ULY_Y_96_P3</th>\n",
       "      <td>26.731061</td>\n",
       "      <td>63513.0</td>\n",
       "      <td>37.543771</td>\n",
       "      <td>89204.0</td>\n",
       "      <td>-15.228471</td>\n",
       "      <td>23.625088</td>\n",
       "    </tr>\n",
       "    <tr>\n",
       "      <th>ULY_Y_96_P4</th>\n",
       "      <td>24.729308</td>\n",
       "      <td>61848.0</td>\n",
       "      <td>30.205118</td>\n",
       "      <td>75543.0</td>\n",
       "      <td>-15.283236</td>\n",
       "      <td>20.803913</td>\n",
       "    </tr>\n",
       "    <tr>\n",
       "      <th>ULY_Y_96_P5</th>\n",
       "      <td>25.725754</td>\n",
       "      <td>63131.0</td>\n",
       "      <td>32.613692</td>\n",
       "      <td>80034.0</td>\n",
       "      <td>-15.164429</td>\n",
       "      <td>23.092096</td>\n",
       "    </tr>\n",
       "  </tbody>\n",
       "</table>\n",
       "<p>315 rows × 6 columns</p>\n",
       "</div>"
      ],
      "text/plain": [
       "             mean_pulse_density  total_pulses  mean_point_density  \\\n",
       "id                                                                  \n",
       "AGG_O_01_P1           48.682927      129740.0           94.731332   \n",
       "AGG_O_01_P2           48.289496      114929.0           94.245378   \n",
       "AGG_O_01_P3           48.290526      137628.0           96.454386   \n",
       "AGG_O_01_P4           49.795264      130364.0          109.504584   \n",
       "AGG_O_01_P5           49.103567      114264.0          121.291362   \n",
       "...                         ...           ...                 ...   \n",
       "ULY_Y_96_P1           27.347843       69737.0           43.126275   \n",
       "ULY_Y_96_P2           27.518034       69428.0           39.183908   \n",
       "ULY_Y_96_P3           26.731061       63513.0           37.543771   \n",
       "ULY_Y_96_P4           24.729308       61848.0           30.205118   \n",
       "ULY_Y_96_P5           25.725754       63131.0           32.613692   \n",
       "\n",
       "             total_points  mean_scan_angle  max_scan_angle  \n",
       "id                                                          \n",
       "AGG_O_01_P1      252459.0        -0.070185        0.113455  \n",
       "AGG_O_01_P2      224304.0        -0.065961        0.120404  \n",
       "AGG_O_01_P3      274895.0        -0.066163        0.125832  \n",
       "AGG_O_01_P4      286683.0        -0.064567        0.151091  \n",
       "AGG_O_01_P5      282245.0        -0.060656        0.141343  \n",
       "...                   ...              ...             ...  \n",
       "ULY_Y_96_P1      109972.0       -11.770692       25.534655  \n",
       "ULY_Y_96_P2       98861.0       -14.802362       23.922390  \n",
       "ULY_Y_96_P3       89204.0       -15.228471       23.625088  \n",
       "ULY_Y_96_P4       75543.0       -15.283236       20.803913  \n",
       "ULY_Y_96_P5       80034.0       -15.164429       23.092096  \n",
       "\n",
       "[315 rows x 6 columns]"
      ]
     },
     "execution_count": 12,
     "metadata": {},
     "output_type": "execute_result"
    }
   ],
   "source": [
    "ancillary_metrics = plots.apply(get_ancillary_metrics, axis=1)\n",
    "ancillary_metrics"
   ]
  },
  {
   "cell_type": "code",
   "execution_count": null,
   "id": "025cd83a",
   "metadata": {},
   "outputs": [
    {
     "data": {
      "application/vnd.microsoft.datawrangler.viewer.v0+json": {
       "columns": [
        {
         "name": "index",
         "rawType": "object",
         "type": "string"
        },
        {
         "name": "mean",
         "rawType": "float64",
         "type": "float"
        },
        {
         "name": "min",
         "rawType": "float64",
         "type": "float"
        },
        {
         "name": "max",
         "rawType": "float64",
         "type": "float"
        }
       ],
       "ref": "d5f63970-8f7e-45b1-b933-8479616e1d0a",
       "rows": [
        [
         "total_points",
         "168056.75873015873",
         "50080.0",
         "507081.0"
        ],
        [
         "mean_point_density",
         "67.85744894586003",
         "20.39611964430073",
         "185.41689250225835"
        ],
        [
         "total_pulses",
         "80878.29523809523",
         "38802.0",
         "230078.0"
        ],
        [
         "mean_pulse_density",
         "32.642826560295326",
         "16.450018044027427",
         "81.53012048192771"
        ],
        [
         "mean_scan_angle",
         "1.8022101435435212",
         "-25.693418502807617",
         "22.42729377746582"
        ],
        [
         "max_scan_angle",
         "13.395604534080578",
         "0.006000001914799213",
         "29.005332946777344"
        ]
       ],
       "shape": {
        "columns": 3,
        "rows": 6
       }
      },
      "text/html": [
       "<div>\n",
       "<style scoped>\n",
       "    .dataframe tbody tr th:only-of-type {\n",
       "        vertical-align: middle;\n",
       "    }\n",
       "\n",
       "    .dataframe tbody tr th {\n",
       "        vertical-align: top;\n",
       "    }\n",
       "\n",
       "    .dataframe thead th {\n",
       "        text-align: right;\n",
       "    }\n",
       "</style>\n",
       "<table border=\"1\" class=\"dataframe\">\n",
       "  <thead>\n",
       "    <tr style=\"text-align: right;\">\n",
       "      <th></th>\n",
       "      <th>mean</th>\n",
       "      <th>min</th>\n",
       "      <th>max</th>\n",
       "    </tr>\n",
       "  </thead>\n",
       "  <tbody>\n",
       "    <tr>\n",
       "      <th>total_points</th>\n",
       "      <td>168056.758730</td>\n",
       "      <td>50080.000000</td>\n",
       "      <td>507081.000000</td>\n",
       "    </tr>\n",
       "    <tr>\n",
       "      <th>mean_point_density</th>\n",
       "      <td>67.857449</td>\n",
       "      <td>20.396120</td>\n",
       "      <td>185.416893</td>\n",
       "    </tr>\n",
       "    <tr>\n",
       "      <th>total_pulses</th>\n",
       "      <td>80878.295238</td>\n",
       "      <td>38802.000000</td>\n",
       "      <td>230078.000000</td>\n",
       "    </tr>\n",
       "    <tr>\n",
       "      <th>mean_pulse_density</th>\n",
       "      <td>32.642827</td>\n",
       "      <td>16.450018</td>\n",
       "      <td>81.530120</td>\n",
       "    </tr>\n",
       "    <tr>\n",
       "      <th>mean_scan_angle</th>\n",
       "      <td>1.802210</td>\n",
       "      <td>-25.693419</td>\n",
       "      <td>22.427294</td>\n",
       "    </tr>\n",
       "    <tr>\n",
       "      <th>max_scan_angle</th>\n",
       "      <td>13.395605</td>\n",
       "      <td>0.006000</td>\n",
       "      <td>29.005333</td>\n",
       "    </tr>\n",
       "  </tbody>\n",
       "</table>\n",
       "</div>"
      ],
      "text/plain": [
       "                             mean           min            max\n",
       "total_points        168056.758730  50080.000000  507081.000000\n",
       "mean_point_density      67.857449     20.396120     185.416893\n",
       "total_pulses         80878.295238  38802.000000  230078.000000\n",
       "mean_pulse_density      32.642827     16.450018      81.530120\n",
       "mean_scan_angle          1.802210    -25.693419      22.427294\n",
       "max_scan_angle          13.395605      0.006000      29.005333"
      ]
     },
     "execution_count": 24,
     "metadata": {},
     "output_type": "execute_result"
    }
   ],
   "source": [
    "pd.DataFrame({\n",
    "    \"mean\": ancillary_metrics.mean(),\n",
    "    \"min\": ancillary_metrics.min(),\n",
    "    \"max\": ancillary_metrics.max(),\n",
    "}, index=['total_points', 'mean_point_density', 'total_pulses', 'mean_pulse_density', 'mean_scan_angle', 'max_scan_angle'])"
   ]
  }
 ],
 "metadata": {
  "kernelspec": {
   "display_name": "default",
   "language": "python",
   "name": "python3"
  },
  "language_info": {
   "codemirror_mode": {
    "name": "ipython",
    "version": 3
   },
   "file_extension": ".py",
   "mimetype": "text/x-python",
   "name": "python",
   "nbconvert_exporter": "python",
   "pygments_lexer": "ipython3",
   "version": "3.13.7"
  }
 },
 "nbformat": 4,
 "nbformat_minor": 5
}
