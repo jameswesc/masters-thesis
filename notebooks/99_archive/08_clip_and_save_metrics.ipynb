{
 "cells": [
  {
   "cell_type": "code",
   "execution_count": 185,
   "id": "6cf2fb3c",
   "metadata": {},
   "outputs": [],
   "source": [
    "from pathlib import Path\n",
    "\n",
    "import geopandas as gpd\n",
    "import pandas as pd\n",
    "import numpy as np\n",
    "import xarray as xr\n",
    "\n",
    "import rioxarray"
   ]
  },
  {
   "cell_type": "code",
   "execution_count": 186,
   "id": "77208dec",
   "metadata": {},
   "outputs": [],
   "source": [
    "data_dir = Path('../data/outputs')\n",
    "sites_dir = data_dir / \"sites\"\n",
    "sites_metrics_dir = sites_dir / \"metrics\" / \"x1-y1-z1\"\n",
    "sites_netcdf_dir = sites_metrics_dir / \"net_cdf\"\n",
    "sites_grid_tif_dir = sites_metrics_dir / \"grid_tif\"\n",
    "sites_grid_tif_dir.mkdir(parents=True, exist_ok=True)\n",
    "sites_voxel_tif_dir = sites_metrics_dir / \"voxel_tif\"\n",
    "sites_voxel_tif_dir.mkdir(parents=True, exist_ok=True)\n",
    "\n",
    "\n",
    "plots_dir = data_dir / \"plots\"\n",
    "plot_metrics_dir = plots_dir / \"metrics\" / \"x1-y1-z1\"\n",
    "plot_metrics_dir.mkdir(parents=True, exist_ok=True)\n",
    "plot_net_cdf_dir = plot_metrics_dir / \"net_cdf\"\n",
    "plot_net_cdf_dir.mkdir(parents=True, exist_ok=True)\n",
    "plot_grid_tif_dir = plot_metrics_dir / \"grid_tif\"\n",
    "plot_grid_tif_dir.mkdir(parents=True, exist_ok=True)\n",
    "plot_voxel_tif_dir = plot_metrics_dir / \"voxel_tif\"\n",
    "plot_voxel_tif_dir.mkdir(parents=True, exist_ok=True)"
   ]
  },
  {
   "cell_type": "code",
   "execution_count": 187,
   "id": "6f8ad13c",
   "metadata": {},
   "outputs": [],
   "source": [
    "sites_gdf = gpd.read_file(sites_dir / \"sites.geojson\")\n",
    "site_ids = sites_gdf['site'].to_list()"
   ]
  },
  {
   "cell_type": "code",
   "execution_count": 188,
   "id": "7e869360",
   "metadata": {},
   "outputs": [],
   "source": [
    "plots_gdf = gpd.read_file(plots_dir / \"plots.geojson\")\n",
    "plot_site_geom_tuples = list(\n",
    "    zip(\n",
    "        plots_gdf[\"site_plot_id\"].astype(str),\n",
    "        plots_gdf[\"site\"].astype(str),\n",
    "        plots_gdf[\"geometry\"],\n",
    "    )\n",
    ")"
   ]
  },
  {
   "cell_type": "code",
   "execution_count": null,
   "id": "c4ebd4c6",
   "metadata": {},
   "outputs": [],
   "source": [
    "def read_site_metrics(site_id: str) -> xr.Dataset:\n",
    "    metrics_path = sites_netcdf_dir / f\"{site_id}.nc\"\n",
    "    ds = xr.open_dataset(metrics_path, decode_coords=\"all\")\n",
    "    return ds\n",
    "\n",
    "def clip_metrics(ds: xr.Dataset, geom) -> xr.Dataset:\n",
    "    clipped = ds.rio.clip([geom])\n",
    "    return clipped\n",
    "\n",
    "def save_grid_metrics(metrics: xr.Dataset, id: str, output_dir: Path):\n",
    "    output_path = output_dir / f\"{id}.tif\"\n",
    "    grid_metric_keys = [k for k in metrics.data_vars if metrics[k].ndim == 2]\n",
    "    grid_metrics = metrics[grid_metric_keys]\n",
    "    \n",
    "    grid_metrics.rio.to_raster(output_path)\n",
    "\n",
    "def flatten_voxel_metrics(metrics: xr.Dataset) -> list[xr.Dataset]:\n",
    "    voxel_metric_keys = [k for k in metrics.data_vars if metrics[k].ndim == 3]\n",
    "    voxel_metrics = metrics[voxel_metric_keys]\n",
    "    \n",
    "    flatted_datasets = []\n",
    "\n",
    "    for metric in voxel_metrics.data_vars:\n",
    "        # Select the variable as a new dataset\n",
    "        ds_var = voxel_metrics[[metric]]\n",
    "        \n",
    "        # Create a new dataset with one variable per z slice\n",
    "        new_vars = {}\n",
    "        for i, z_val in enumerate(ds_var['z'].values):\n",
    "            # Select the 2D slice at this z\n",
    "            data_2d = ds_var[metric].sel(z=z_val)\n",
    "            # Name for the new variable\n",
    "            new_var_name = f\"z{i}\"\n",
    "            # Add to dict\n",
    "            new_vars[new_var_name] = (('y', 'x'), data_2d.values)\n",
    "        \n",
    "        # Build the new dataset\n",
    "        ds_split = xr.Dataset(new_vars, coords={'y': ds_var['y'], 'x': ds_var['x']})\n",
    "        ds_split.attrs = voxel_metrics.attrs\n",
    "        ds_split.attrs['metric'] = metric\n",
    "        \n",
    "        flatted_datasets.append(ds_split)\n",
    "\n",
    "    return flatted_datasets\n",
    "\n",
    "def save_voxel_metrics(metrics: xr.Dataset, id: str, output_dir: Path):\n",
    "    flatted_datasets = flatten_voxel_metrics(metrics)\n",
    "    for ds in flatted_datasets:\n",
    "        metric = ds.attrs['metric']\n",
    "        output_path = output_dir / f\"{id}_{metric}.tif\"\n",
    "        ds.rio.to_raster(output_path)\n",
    "\n",
    "def read_and_clip_plot_metrics(plot_id: str, site_id: str, geom) -> xr.Dataset:\n",
    "    ds = read_site_metrics(site_id)\n",
    "    clipped = clip_metrics(ds, geom)\n",
    "    clipped.attrs['site_plot_id'] = plot_id\n",
    "    clipped = clipped.transpose('y', 'x', 'z')\n",
    "\n",
    "    z_max = clipped['max_height'].max().item()\n",
    "    clipped = clipped.sel(z=slice(0, np.ceil(z_max)))\n",
    "\n",
    "    clipped.to_netcdf(plot_net_cdf_dir / f\"{plot_id}.nc\")\n",
    "    save_grid_metrics(clipped, plot_id, plot_grid_tif_dir)\n",
    "    save_voxel_metrics(clipped, plot_id, plot_voxel_tif_dir)\n",
    "    return clipped\n",
    "\n",
    "def read_and_save_site_metrics(site_id: str):\n",
    "    ds = read_site_metrics(site_id)\n",
    "    ds = ds.transpose('y', 'x', 'z')\n",
    "    ds.load()\n",
    "    ds.close()\n",
    "    # ds.to_netcdf(sites_netcdf_dir / f\"{site_id}.nc\")\n",
    "    save_grid_metrics(ds, site_id, sites_grid_tif_dir)\n",
    "    save_voxel_metrics(ds, site_id, sites_voxel_tif_dir)\n",
    "    return ds"
   ]
  },
  {
   "cell_type": "code",
   "execution_count": null,
   "id": "95dbcc76",
   "metadata": {},
   "outputs": [],
   "source": [
    "plot = read_and_clip_plot_metrics(*plot_site_geom_tuples[1])\n",
    "plot"
   ]
  },
  {
   "cell_type": "code",
   "execution_count": null,
   "id": "fa48d55a",
   "metadata": {},
   "outputs": [],
   "source": [
    "read_and_save_site_metrics(site_ids[0])"
   ]
  },
  {
   "cell_type": "code",
   "execution_count": null,
   "id": "4c73230f",
   "metadata": {},
   "outputs": [],
   "source": [
    "for site in site_ids:\n",
    "    print(f\"Processing site {site}\")\n",
    "    read_and_save_site_metrics(site)"
   ]
  },
  {
   "cell_type": "code",
   "execution_count": null,
   "id": "af7c84b7",
   "metadata": {},
   "outputs": [],
   "source": [
    "for p in plot_site_geom_tuples:\n",
    "    print(f\"Processing plot {p[0]} from site {p[1]}\")\n",
    "    read_and_clip_plot_metrics(*p)"
   ]
  },
  {
   "cell_type": "markdown",
   "id": "f25b777b",
   "metadata": {},
   "source": [
    "# Plot Height Profiles\n",
    "\n",
    "For each plot, mean voxels in the x and y dimensions to get some height profiles."
   ]
  },
  {
   "cell_type": "code",
   "execution_count": 189,
   "id": "93f4477a",
   "metadata": {},
   "outputs": [],
   "source": [
    "plot_profile_dir = plot_metrics_dir / \"voxel_profile_json\"\n",
    "plot_profile_dir.mkdir(parents=True, exist_ok=True)"
   ]
  },
  {
   "cell_type": "code",
   "execution_count": 191,
   "id": "290e8ff8",
   "metadata": {},
   "outputs": [],
   "source": [
    "plot_ids = list(plots_gdf[\"site_plot_id\"])"
   ]
  },
  {
   "cell_type": "code",
   "execution_count": 199,
   "id": "99dcc91f",
   "metadata": {},
   "outputs": [],
   "source": [
    "def create_height_profile(plot_id: str):\n",
    "    metrics_path = plot_net_cdf_dir / f\"{plot_id}.nc\"\n",
    "    ds = xr.open_dataset(metrics_path, decode_coords=\"all\")\n",
    "    voxel_metric_keys = [k for k in ds.data_vars if ds[k].ndim == 3]\n",
    "    voxel_metrics = ds[voxel_metric_keys]\n",
    "    height_profile = voxel_metrics.mean(dim=['x', 'y']).to_dataframe()\n",
    "    height_profile.reset_index(inplace=True)\n",
    "    height_profile['site_plot_id'] = plot_id\n",
    "    output_path = plot_profile_dir / f\"{plot_id}.json\"\n",
    "    height_profile.to_json(output_path, orient='records')\n",
    "    return height_profile"
   ]
  },
  {
   "cell_type": "code",
   "execution_count": 200,
   "id": "a2f5432a",
   "metadata": {},
   "outputs": [],
   "source": [
    "all_profiles = pd.concat([create_height_profile(pid) for pid in plot_ids])"
   ]
  },
  {
   "cell_type": "code",
   "execution_count": 201,
   "id": "4d35f6ec",
   "metadata": {},
   "outputs": [],
   "source": [
    "all_profiles.to_json(plot_profile_dir / \"all_profiles.json\", orient='records')"
   ]
  }
 ],
 "metadata": {
  "kernelspec": {
   "display_name": "default",
   "language": "python",
   "name": "python3"
  },
  "language_info": {
   "codemirror_mode": {
    "name": "ipython",
    "version": 3
   },
   "file_extension": ".py",
   "mimetype": "text/x-python",
   "name": "python",
   "nbconvert_exporter": "python",
   "pygments_lexer": "ipython3",
   "version": "3.13.5"
  }
 },
 "nbformat": 4,
 "nbformat_minor": 5
}
